{
 "metadata": {
  "language_info": {
   "codemirror_mode": {
    "name": "ipython",
    "version": 3
   },
   "file_extension": ".py",
   "mimetype": "text/x-python",
   "name": "python",
   "nbconvert_exporter": "python",
   "pygments_lexer": "ipython3",
   "version": "3.9.2"
  },
  "orig_nbformat": 2,
  "kernelspec": {
   "name": "python3",
   "display_name": "Python 3.9.2 64-bit ('atcoder': venv)",
   "metadata": {
    "interpreter": {
     "hash": "f4c7524dd99dfcb4e3a376c414b8e51d5ba93a0e84ba582503f4033119979259"
    }
   }
  }
 },
 "nbformat": 4,
 "nbformat_minor": 2,
 "cells": [
  {
   "cell_type": "code",
   "execution_count": 5,
   "metadata": {
    "tags": []
   },
   "outputs": [
    {
     "output_type": "stream",
     "name": "stdout",
     "text": [
      "(1, 2) (3, 4) (2, [1, 0])\n(1, 2) (4, 3) (2, [1, 0])\n(1, 3) (2, 4) (2, [1, 0])\n(1, 3) (4, 2) (2, [0, 0])\n(1, 4) (2, 3) (3, [1, 0, 0])\n(1, 4) (3, 2) (3, [1, 0, 0])\n(2, 1) (3, 4) (2, [1, 0])\n(2, 1) (4, 3) (2, [1, 0])\n(2, 3) (1, 4) (3, [1, 0, 0])\n(2, 3) (4, 1) (2, [0, 0])\n(2, 4) (1, 3) (2, [1, 0])\n(2, 4) (3, 1) (3, [1, 0, 0])\n(3, 1) (2, 4) (3, [1, 0, 0])\n(3, 1) (4, 2) (2, [1, 0])\n(3, 2) (1, 4) (3, [1, 0, 0])\n(3, 2) (4, 1) (2, [0, 0])\n(3, 4) (1, 2) (2, [1, 0])\n(3, 4) (2, 1) (2, [1, 0])\n(4, 1) (2, 3) (2, [0, 0])\n(4, 1) (3, 2) (2, [0, 0])\n(4, 2) (1, 3) (2, [0, 0])\n(4, 2) (3, 1) (2, [1, 0])\n(4, 3) (1, 2) (2, [1, 0])\n(4, 3) (2, 1) (2, [1, 0])\n"
     ]
    }
   ],
   "source": [
    "import math\n",
    "from itertools import permutations\n",
    "\n",
    "def sousa(A, B, i):\n",
    "    if A[i] > B[i]:\n",
    "        B = B[:i]+B[i+1:]\n",
    "    else:\n",
    "        A = A[:i]+A[i+1:]\n",
    "    return A, B\n",
    "\n",
    "def min_play(A, B):\n",
    "    if len(A)==0 or len(B)==0:\n",
    "        return 0, []\n",
    "    ans, play = (math.inf, [])\n",
    "    for i in range(min(len(A), len(B))):\n",
    "        A_, B_ = sousa(A, B, i)\n",
    "        ans_, play_ = min_play(A_, B_)\n",
    "        if ans_ < ans:\n",
    "            ans, play = ans_+1, [i]+play_\n",
    "    return ans, play\n",
    "\n",
    "for ab in permutations([1,2,3,4], 4):\n",
    "    a = ab[:2]\n",
    "    b = ab[2:]\n",
    "    print(a, b, min_play(a, b))\n",
    "    "
   ]
  },
  {
   "cell_type": "code",
   "execution_count": 12,
   "metadata": {},
   "outputs": [
    {
     "output_type": "execute_result",
     "data": {
      "text/plain": [
       "(2510, 1560)"
      ]
     },
     "metadata": {},
     "execution_count": 12
    }
   ],
   "source": [
    "P = int(1e9+7)\n",
    "tmp = 1\n",
    "for i in range(1, 7):\n",
    "    tmp = (tmp*i)%P\n",
    "(tmp*486111118)%P, (9+4)*(tmp)//4//30*5*4"
   ]
  }
 ]
}