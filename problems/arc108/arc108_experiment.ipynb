{
 "metadata": {
  "language_info": {
   "codemirror_mode": {
    "name": "ipython",
    "version": 3
   },
   "file_extension": ".py",
   "mimetype": "text/x-python",
   "name": "python",
   "nbconvert_exporter": "python",
   "pygments_lexer": "ipython3",
   "version": 3
  },
  "orig_nbformat": 2
 },
 "nbformat": 4,
 "nbformat_minor": 2,
 "cells": [
  {
   "cell_type": "code",
   "execution_count": null,
   "metadata": {},
   "outputs": [],
   "source": [
    "for c in range(16):\n",
    "    # aa ab ba bb\n",
    "    # is a\n",
    "    Cs = [c>>i&1 for i in range(4)]\n",
    "    rule = {}\n",
    "    d = {'aa': 0, 'ab': 1, 'ba': 2, 'bb':3}\n",
    "    for i, s in enumerate('aa ab ba bb'.split()):\n",
    "        j = d[i]\n",
    "        rule[d[i]] = \n"
   ]
  }
 ]
}