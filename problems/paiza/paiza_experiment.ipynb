{
 "metadata": {
  "language_info": {
   "codemirror_mode": {
    "name": "ipython",
    "version": 3
   },
   "file_extension": ".py",
   "mimetype": "text/x-python",
   "name": "python",
   "nbconvert_exporter": "python",
   "pygments_lexer": "ipython3",
   "version": "3.9.2-final"
  },
  "orig_nbformat": 2,
  "kernelspec": {
   "name": "python3",
   "display_name": "Python 3.9.2 64-bit ('atcoder')",
   "metadata": {
    "interpreter": {
     "hash": "f4c7524dd99dfcb4e3a376c414b8e51d5ba93a0e84ba582503f4033119979259"
    }
   }
  }
 },
 "nbformat": 4,
 "nbformat_minor": 2,
 "cells": [
  {
   "cell_type": "code",
   "execution_count": 2,
   "metadata": {},
   "outputs": [],
   "source": [
    "N, M, T = map(int, input().split())\n",
    "W = [input() for _ in range(N)]"
   ]
  },
  {
   "cell_type": "code",
   "execution_count": 3,
   "metadata": {},
   "outputs": [
    {
     "output_type": "execute_result",
     "data": {
      "text/plain": [
       "['SCSC', 'CSSS', 'CCCC', 'SSSC']"
      ]
     },
     "metadata": {},
     "execution_count": 3
    }
   ],
   "source": [
    "W"
   ]
  },
  {
   "cell_type": "code",
   "execution_count": 16,
   "metadata": {},
   "outputs": [
    {
     "output_type": "execute_result",
     "data": {
      "text/plain": [
       "[(-1, -1), (-1, 0), (-1, 1), (0, -1), (0, 0), (0, 1), (1, -1), (1, 0), (1, 1)]"
      ]
     },
     "metadata": {},
     "execution_count": 16
    }
   ],
   "source": [
    "dirs"
   ]
  },
  {
   "cell_type": "code",
   "execution_count": 7,
   "metadata": {
    "tags": []
   },
   "outputs": [
    {
     "output_type": "stream",
     "name": "stdout",
     "text": [
      "[0, 0, 0, 0, 0]\n\n[1, 1, 0, 0, 1]\n[1, 1, 0, 0, 1]\n[0, 0, 0, 0, 0]\n[0, 0, 0, 0, 0]\n[0, 0, 0, 0, 0]\n[0, 0, 0, 0, 0]\n[1, 1, 0, 0, 1]\n\n[0, 0, 0, 0, 0]\n\n[1, 0, 1, 1, 0]\n[0, 0, 0, 0, 0]\n[1, 0, 1, 1, 0]\n[0, 0, 0, 0, 0]\n[0, 0, 0, 0, 0]\n[1, 0, 1, 1, 0]\n[0, 0, 0, 0, 0]\n\n[1, 0, 0, 0, 0]\n\n[1, 0, 0, 0, 0]\n[0, 0, 0, 0, 0]\n[1, 0, 0, 0, 0]\n[1, 0, 0, 0, 0]\n[1, 0, 0, 0, 0]\n[1, 0, 0, 0, 0]\n[0, 0, 0, 0, 0]\n\n[1, 1, 0, 0, 1]\n\n[1, 1, 0, 0, 1]\n[0, 0, 0, 0, 0]\n[0, 0, 0, 0, 0]\n[1, 1, 0, 0, 1]\n[1, 1, 0, 0, 1]\n[0, 0, 0, 0, 0]\n[0, 0, 0, 0, 0]\n\n[0, 0, 0, 0, 0]\n\n[1, 0, 1, 1, 0]\n[1, 0, 1, 1, 0]\n[1, 0, 1, 1, 0]\n[0, 0, 0, 0, 0]\n[0, 0, 0, 0, 0]\n[1, 0, 1, 1, 0]\n[1, 0, 1, 1, 0]\n\n[1, 0, 0, 0, 0]\n\n[1, 0, 0, 0, 0]\n[1, 0, 0, 0, 0]\n[0, 0, 0, 0, 0]\n[1, 0, 0, 0, 0]\n[1, 0, 0, 0, 0]\n[0, 0, 0, 0, 0]\n[1, 0, 0, 0, 0]\n\n[0, 0, 0, 0, 0]\n\n[1, 1, 0, 0, 1]\n[0, 0, 0, 0, 0]\n[0, 0, 0, 0, 0]\n[0, 0, 0, 0, 0]\n[0, 0, 0, 0, 0]\n[0, 0, 0, 0, 0]\n[0, 0, 0, 0, 0]\n\n[0, 0, 0, 0, 0]\n\n[1, 0, 1, 1, 0]\n[1, 0, 1, 1, 0]\n[0, 0, 0, 0, 0]\n[0, 0, 0, 0, 0]\n[0, 0, 0, 0, 0]\n[0, 0, 0, 0, 0]\n[1, 0, 1, 1, 0]\n\n[0, 0, 0, 0, 0]\n\n[1, 0, 0, 0, 0]\n[0, 0, 0, 0, 0]\n[1, 0, 0, 0, 0]\n[0, 0, 0, 0, 0]\n[0, 0, 0, 0, 0]\n[1, 0, 0, 0, 0]\n[0, 0, 0, 0, 0]\n\n[1, 1, 0, 0, 1]\n\n[1, 1, 0, 0, 1]\n[0, 0, 0, 0, 0]\n[1, 1, 0, 0, 1]\n[1, 1, 0, 0, 1]\n[1, 1, 0, 0, 1]\n[1, 1, 0, 0, 1]\n[0, 0, 0, 0, 0]\n\n[1, 0, 1, 1, 0]\n\n[1, 0, 1, 1, 0]\n[0, 0, 0, 0, 0]\n[0, 0, 0, 0, 0]\n[1, 0, 1, 1, 0]\n[1, 0, 1, 1, 0]\n[0, 0, 0, 0, 0]\n[0, 0, 0, 0, 0]\n\n[0, 0, 0, 0, 0]\n\n[1, 0, 0, 0, 0]\n[1, 0, 0, 0, 0]\n[1, 0, 0, 0, 0]\n[0, 0, 0, 0, 0]\n[0, 0, 0, 0, 0]\n[1, 0, 0, 0, 0]\n[1, 0, 0, 0, 0]\n\n[1, 1, 0, 0, 1]\n\n[1, 1, 0, 0, 1]\n[1, 1, 0, 0, 1]\n[0, 0, 0, 0, 0]\n[1, 1, 0, 0, 1]\n[1, 1, 0, 0, 1]\n[0, 0, 0, 0, 0]\n[1, 1, 0, 0, 1]\n\n[0, 0, 0, 0, 0]\n\n[1, 0, 1, 1, 0]\n[0, 0, 0, 0, 0]\n[0, 0, 0, 0, 0]\n[0, 0, 0, 0, 0]\n[0, 0, 0, 0, 0]\n[0, 0, 0, 0, 0]\n[0, 0, 0, 0, 0]\n\n[0, 0, 0, 0, 0]\n\n[1, 0, 0, 0, 0]\n[1, 0, 0, 0, 0]\n[0, 0, 0, 0, 0]\n[0, 0, 0, 0, 0]\n[0, 0, 0, 0, 0]\n[0, 0, 0, 0, 0]\n[1, 0, 0, 0, 0]\n\n[0, 0, 0, 0, 0]\n\n[1, 1, 0, 0, 1]\n[0, 0, 0, 0, 0]\n[1, 1, 0, 0, 1]\n[0, 0, 0, 0, 0]\n[0, 0, 0, 0, 0]\n[1, 1, 0, 0, 1]\n[0, 0, 0, 0, 0]\n\n[1, 0, 1, 1, 0]\n\n[1, 0, 1, 1, 0]\n[0, 0, 0, 0, 0]\n[1, 0, 1, 1, 0]\n[1, 0, 1, 1, 0]\n[1, 0, 1, 1, 0]\n[1, 0, 1, 1, 0]\n[0, 0, 0, 0, 0]\n\n[1, 0, 0, 0, 0]\n\n[1, 0, 0, 0, 0]\n[0, 0, 0, 0, 0]\n[0, 0, 0, 0, 0]\n[1, 0, 0, 0, 0]\n[1, 0, 0, 0, 0]\n[0, 0, 0, 0, 0]\n[0, 0, 0, 0, 0]\n\n"
     ]
    }
   ],
   "source": [
    "import itertools\n",
    "M, N = 5, 7\n",
    "Map = [[0]*M for _ in range(N)]\n",
    "Map[0][0] = 1\n",
    "dirs = list(itertools.product([-1, 0, 1], [-1, 0, 1]))\n",
    "ls = []\n",
    "for i in range(18):\n",
    "    new_Map = [[0]*M for _ in range(N)]\n",
    "    for i in range(N):\n",
    "        for j in range(M):\n",
    "            for i_, j_ in dirs:\n",
    "                new_Map[i][j] = (new_Map[i][j] + Map[(i+i_)%N][(j+j_)%M])%2\n",
    "    Map = new_Map\n",
    "    ls.append(Map[3])\n",
    "    print(Map[3])\n",
    "    print()\n",
    "    for j in range(N):\n",
    "        print(Map[j])\n",
    "    print()\n"
   ]
  },
  {
   "cell_type": "code",
   "execution_count": 15,
   "metadata": {
    "tags": []
   },
   "outputs": [],
   "source": [
    "w = ''\n",
    "for _ in range(200):\n",
    "    w += 'S'*200+'\\n'\n",
    "with open('../../input.txt', 'w') as f:\n",
    "    f.write(w)"
   ]
  },
  {
   "cell_type": "code",
   "execution_count": 12,
   "metadata": {},
   "outputs": [
    {
     "output_type": "execute_result",
     "data": {
      "text/plain": [
       "array([[ True, False, False, False, False],\n",
       "       [False, False, False, False, False],\n",
       "       [False, False, False, False, False],\n",
       "       [ True, False, False, False, False],\n",
       "       [ True, False, False, False, False],\n",
       "       [False, False, False, False, False],\n",
       "       [False, False, False, False, False]])"
      ]
     },
     "metadata": {},
     "execution_count": 12
    }
   ],
   "source": [
    "import numpy as np\n",
    "T = 19\n",
    "N_mat = np.array([[abs(i-j)%N<=1 or abs(i-j)%N==N-1 for j in range(N)] for i in range(N)], dtype=int)\n",
    "N_res = np.eye(N, dtype=int)\n",
    "for i in bin(T-1)[2:]:\n",
    "    N_res = (N_res@N_res)%2\n",
    "    if i=='1':\n",
    "        N_res = (N_res@N_mat)%2\n",
    "N_res = N_res@np.array([1]+[0]*(N-1))\n",
    "\n",
    "M_mat = np.array([[abs(i-j)%M<=1 or abs(i-j)%M==M-1 for j in range(M)] for i in range(M)], dtype=int)\n",
    "M_res = np.eye(M, dtype=int)\n",
    "for i in bin(T-1)[2:]:\n",
    "    M_res = (M_res@M_res)%2\n",
    "    if i=='1':\n",
    "        M_res = (M_res@M_mat)%2\n",
    "M_res = M_res@np.array([1]+[0]*(M-1))\n",
    "res_mat = np.array([[(N_res[i]==1 and M_res[j]==1) for j in range(M)] for i in range(N)])\n",
    "res_mat"
   ]
  },
  {
   "cell_type": "code",
   "execution_count": 9,
   "metadata": {},
   "outputs": [
    {
     "output_type": "execute_result",
     "data": {
      "text/plain": [
       "array([[ True, False,  True,  True, False],\n",
       "       [False, False, False, False, False],\n",
       "       [ True, False,  True,  True, False],\n",
       "       [ True, False,  True,  True, False],\n",
       "       [ True, False,  True,  True, False],\n",
       "       [ True, False,  True,  True, False],\n",
       "       [False, False, False, False, False]])"
      ]
     },
     "metadata": {},
     "execution_count": 9
    }
   ],
   "source": [
    "res_mat"
   ]
  }
 ]
}