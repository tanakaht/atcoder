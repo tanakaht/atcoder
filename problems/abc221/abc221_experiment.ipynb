{
 "cells": [
  {
   "cell_type": "code",
   "execution_count": 2,
   "source": [
    "import matplotlib.pyplot as plt\n",
    "A=list(map(int, \"198495780 28463047 859606611 212983738 946249513 789612890 782044670 700201033 367981604 302538501\".split()))\n",
    "plt.bar(range(len(A)), A)"
   ],
   "outputs": [
    {
     "output_type": "execute_result",
     "data": {
      "text/plain": [
       "<BarContainer object of 10 artists>"
      ]
     },
     "metadata": {},
     "execution_count": 2
    },
    {
     "output_type": "display_data",
     "data": {
      "image/png": "[encoded data removed]",
      "text/plain": [
       "<Figure size 432x288 with 1 Axes>"
      ]
     },
     "metadata": {
      "needs_background": "light"
     }
    }
   ],
   "metadata": {}
  }
 ],
 "metadata": {
  "orig_nbformat": 4,
  "language_info": {
   "name": "python",
   "version": "3.9.7",
   "mimetype": "text/x-python",
   "codemirror_mode": {
    "name": "ipython",
    "version": 3
   },
   "pygments_lexer": "ipython3",
   "nbconvert_exporter": "python",
   "file_extension": ".py"
  },
  "kernelspec": {
   "name": "python3",
   "display_name": "Python 3.9.7 64-bit ('atcoder': venv)"
  },
  "interpreter": {
   "hash": "f4c7524dd99dfcb4e3a376c414b8e51d5ba93a0e84ba582503f4033119979259"
  }
 },
 "nbformat": 4,
 "nbformat_minor": 2
}