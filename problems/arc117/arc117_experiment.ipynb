{
 "metadata": {
  "language_info": {
   "codemirror_mode": {
    "name": "ipython",
    "version": 3
   },
   "file_extension": ".py",
   "mimetype": "text/x-python",
   "name": "python",
   "nbconvert_exporter": "python",
   "pygments_lexer": "ipython3",
   "version": "3.9.2"
  },
  "orig_nbformat": 2,
  "kernelspec": {
   "name": "python3",
   "display_name": "Python 3.9.2 64-bit ('atcoder': venv)",
   "metadata": {
    "interpreter": {
     "hash": "f4c7524dd99dfcb4e3a376c414b8e51d5ba93a0e84ba582503f4033119979259"
    }
   }
  }
 },
 "nbformat": 4,
 "nbformat_minor": 2,
 "cells": [
  {
   "cell_type": "code",
   "execution_count": 4,
   "metadata": {},
   "outputs": [],
   "source": [
    "N = 8\n",
    "input_ = '''1 2\n",
    "2 3\n",
    "1 4\n",
    "4 5\n",
    "1 6\n",
    "6 7'''\n",
    "AB = [list(map(int, i.split())) for i in input_.split('\\n')]\n"
   ]
  },
  {
   "cell_type": "code",
   "execution_count": 15,
   "metadata": {},
   "outputs": [],
   "source": [
    "N = 7\n",
    "dist = [[0]*(N+1) for _ in range(N+1)]\n",
    "for i in range(N):\n",
    "    i+=1\n",
    "    for j in range(N):\n",
    "        j+=1\n",
    "        if i==j:\n",
    "            continue\n",
    "        if i==1 or j==1:\n",
    "            dist[i][j] = (i+j-3)%2+1\n",
    "        elif abs(i-j)==1 and max(i,j)%2==1:\n",
    "            dist[i][j] = 1\n",
    "        else:\n",
    "            dist[i][j] = 2+(i%2)+(j%2)"
   ]
  },
  {
   "cell_type": "code",
   "execution_count": 17,
   "metadata": {},
   "outputs": [
    {
     "output_type": "stream",
     "name": "stdout",
     "text": [
      "9\n{1: 3, 2: 2, 3: 1, 4: 4, 5: 5, 6: 8, 7: 9}\n"
     ]
    }
   ],
   "source": [
    "import math, itertools\n",
    "ans = math.inf\n",
    "ans_d = None\n",
    "for di in itertools.permutations(list(range(1, 11)), 7):\n",
    "    d = {k+1: v for k, v in enumerate(di)}\n",
    "    ok = True\n",
    "    for i in range(N):\n",
    "        i+=1\n",
    "        for j in range(N):\n",
    "            j+=1\n",
    "            if i==j:\n",
    "                continue\n",
    "            if abs(d[i]-d[j])<dist[i][j]:\n",
    "                ok = False\n",
    "    if ok and ans>max(di):\n",
    "        ans = max(di)\n",
    "        ans_d = d\n",
    "            \n",
    "print(ans)\n",
    "print(ans_d)"
   ]
  },
  {
   "cell_type": "code",
   "execution_count": 18,
   "metadata": {},
   "outputs": [
    {
     "output_type": "stream",
     "name": "stdout",
     "text": [
      "3 2\n2 1\n3 4\n4 5\n3 8\n8 9\n"
     ]
    }
   ],
   "source": [
    "for a, b in AB:\n",
    "    print(ans_d[a], ans_d[b])"
   ]
  }
 ]
}