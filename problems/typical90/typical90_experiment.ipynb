{
 "metadata": {
  "language_info": {
   "codemirror_mode": {
    "name": "ipython",
    "version": 3
   },
   "file_extension": ".py",
   "mimetype": "text/x-python",
   "name": "python",
   "nbconvert_exporter": "python",
   "pygments_lexer": "ipython3",
   "version": "3.9.2"
  },
  "orig_nbformat": 2,
  "kernelspec": {
   "name": "python392jvsc74a57bd0f4c7524dd99dfcb4e3a376c414b8e51d5ba93a0e84ba582503f4033119979259",
   "display_name": "Python 3.9.2 64-bit ('atcoder': venv)"
  }
 },
 "nbformat": 4,
 "nbformat_minor": 2,
 "cells": [
  {
   "cell_type": "code",
   "execution_count": 4,
   "metadata": {},
   "outputs": [
    {
     "output_type": "stream",
     "name": "stdout",
     "text": [
      "24\n"
     ]
    }
   ],
   "source": [
    "import numpy as np\n",
    "import math\n",
    "N = 10\n",
    "N_ = N*int(math.sqrt(N))*2\n",
    "X = np.zeros((N_, N_))\n",
    "for i in range(N_):\n",
    "\n",
    "    for j in range(N_):\n",
    "\n",
    "        X[i][j] = \n",
    "\n",
    "\n",
    "# O(dig(Q)*log(dig(Q))*log(n))\n",
    "def get_PdivQ(P, Q, n, mod=None):\n",
    "    assert Q[0]==1\n",
    "    if n==0:\n",
    "        return P[0]\n",
    "    if mod:\n",
    "        Q_ = [(q*(1+(-2)*(i%2)))%mod for i, q in enumerate(Q)]\n",
    "        PQ_ = convolve2(P, Q_, mod)\n",
    "        QQ_ = convolve2(Q, Q_, mod)\n",
    "    else:\n",
    "        Q_ = [q*(1+(-2)*(i%2)) for i, q in enumerate(Q)]\n",
    "        PQ_ = convolve(P, Q_)\n",
    "        QQ_ = convolve(Q, Q_)\n",
    "    V = QQ_[::2]\n",
    "    if n%2==0:\n",
    "        Ue = PQ_[::2]\n",
    "        return get_PdivQ(Ue, V, n//2, mod=mod)\n",
    "    else:\n",
    "        Uo = PQ_[1::2]\n",
    "        return get_PdivQ(Uo, V, (n-1)//2, mod=mod)\n"
   ]
  }
 ]
}