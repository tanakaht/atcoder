{
 "cells": [
  {
   "cell_type": "code",
   "execution_count": 1,
   "metadata": {},
   "outputs": [],
   "source": [
    "import matplotlib.pyplot as plt\n",
    "import numpy as np\n",
    "import random"
   ]
  },
  {
   "cell_type": "code",
   "execution_count": null,
   "metadata": {},
   "outputs": [],
   "source": []
  },
  {
   "cell_type": "code",
   "execution_count": null,
   "metadata": {},
   "outputs": [],
   "source": []
  },
  {
   "cell_type": "code",
   "execution_count": 2,
   "metadata": {},
   "outputs": [],
   "source": [
    "v = [round(abs(np.random.normal())*(20+np.random.random()*40)) for _ in range(100000)]"
   ]
  },
  {
   "cell_type": "code",
   "execution_count": 3,
   "metadata": {},
   "outputs": [
    {
     "data": {
      "text/plain": [
       "(array([5.664e+03, 4.371e+03, 6.480e+03, 4.313e+03, 6.121e+03, 3.935e+03,\n",
       "        5.809e+03, 3.680e+03, 5.341e+03, 3.285e+03, 4.720e+03, 2.980e+03,\n",
       "        2.892e+03, 3.974e+03, 2.520e+03, 3.444e+03, 2.130e+03, 2.881e+03,\n",
       "        1.836e+03, 2.492e+03, 1.576e+03, 2.136e+03, 1.300e+03, 1.753e+03,\n",
       "        1.089e+03, 1.039e+03, 1.378e+03, 8.210e+02, 1.179e+03, 6.820e+02,\n",
       "        1.004e+03, 6.520e+02, 7.890e+02, 4.930e+02, 6.380e+02, 4.000e+02,\n",
       "        5.750e+02, 2.670e+02, 3.030e+02, 3.870e+02, 2.400e+02, 3.320e+02,\n",
       "        1.850e+02, 2.420e+02, 1.350e+02, 1.940e+02, 1.340e+02, 1.970e+02,\n",
       "        1.210e+02, 9.300e+01, 1.170e+02, 8.000e+01, 1.090e+02, 5.600e+01,\n",
       "        5.600e+01, 4.600e+01, 4.400e+01, 2.600e+01, 3.700e+01, 2.700e+01,\n",
       "        3.600e+01, 1.600e+01, 2.200e+01, 2.100e+01, 1.500e+01, 9.000e+00,\n",
       "        8.000e+00, 9.000e+00, 5.000e+00, 9.000e+00, 6.000e+00, 1.200e+01,\n",
       "        4.000e+00, 3.000e+00, 2.000e+00, 2.000e+00, 3.000e+00, 2.000e+00,\n",
       "        3.000e+00, 1.000e+00, 0.000e+00, 5.000e+00, 1.000e+00, 0.000e+00,\n",
       "        3.000e+00, 0.000e+00, 2.000e+00, 0.000e+00, 0.000e+00, 0.000e+00,\n",
       "        0.000e+00, 0.000e+00, 0.000e+00, 0.000e+00, 0.000e+00, 0.000e+00,\n",
       "        0.000e+00, 0.000e+00, 0.000e+00, 1.000e+00]),\n",
       " array([  0.  ,   2.46,   4.92,   7.38,   9.84,  12.3 ,  14.76,  17.22,\n",
       "         19.68,  22.14,  24.6 ,  27.06,  29.52,  31.98,  34.44,  36.9 ,\n",
       "         39.36,  41.82,  44.28,  46.74,  49.2 ,  51.66,  54.12,  56.58,\n",
       "         59.04,  61.5 ,  63.96,  66.42,  68.88,  71.34,  73.8 ,  76.26,\n",
       "         78.72,  81.18,  83.64,  86.1 ,  88.56,  91.02,  93.48,  95.94,\n",
       "         98.4 , 100.86, 103.32, 105.78, 108.24, 110.7 , 113.16, 115.62,\n",
       "        118.08, 120.54, 123.  , 125.46, 127.92, 130.38, 132.84, 135.3 ,\n",
       "        137.76, 140.22, 142.68, 145.14, 147.6 , 150.06, 152.52, 154.98,\n",
       "        157.44, 159.9 , 162.36, 164.82, 167.28, 169.74, 172.2 , 174.66,\n",
       "        177.12, 179.58, 182.04, 184.5 , 186.96, 189.42, 191.88, 194.34,\n",
       "        196.8 , 199.26, 201.72, 204.18, 206.64, 209.1 , 211.56, 214.02,\n",
       "        216.48, 218.94, 221.4 , 223.86, 226.32, 228.78, 231.24, 233.7 ,\n",
       "        236.16, 238.62, 241.08, 243.54, 246.  ]),\n",
       " <BarContainer object of 100 artists>)"
      ]
     },
     "execution_count": 3,
     "metadata": {},
     "output_type": "execute_result"
    },
    {
     "data": {
      "image/png": "[encoded data removed]",
      "text/plain": [
       "<Figure size 432x288 with 1 Axes>"
      ]
     },
     "metadata": {
      "needs_background": "light"
     },
     "output_type": "display_data"
    }
   ],
   "source": [
    "plt.hist(v, bins=100)"
   ]
  },
  {
   "cell_type": "code",
   "execution_count": 4,
   "metadata": {},
   "outputs": [
    {
     "data": {
      "text/plain": [
       "31.79482"
      ]
     },
     "execution_count": 4,
     "metadata": {},
     "output_type": "execute_result"
    }
   ],
   "source": [
    "np.mean(v)"
   ]
  },
  {
   "cell_type": "code",
   "execution_count": 7,
   "metadata": {},
   "outputs": [
    {
     "name": "stderr",
     "output_type": "stream",
     "text": [
      "<>:43: SyntaxWarning: 'tuple' object is not callable; perhaps you missed a comma?\n",
      "<>:43: SyntaxWarning: 'tuple' object is not callable; perhaps you missed a comma?\n",
      "<ipython-input-7-0fad154d201d>:43: SyntaxWarning: 'tuple' object is not callable; perhaps you missed a comma?\n",
      "  (2028, 1406)\n"
     ]
    },
    {
     "ename": "TypeError",
     "evalue": "'tuple' object is not callable",
     "output_type": "error",
     "traceback": [
      "\u001b[0;31m---------------------------------------------------------------------------\u001b[0m",
      "\u001b[0;31mTypeError\u001b[0m                                 Traceback (most recent call last)",
      "\u001b[0;32m<ipython-input-7-0fad154d201d>\u001b[0m in \u001b[0;36m<module>\u001b[0;34m\u001b[0m\n\u001b[1;32m     41\u001b[0m \u001b[0;34m(\u001b[0m\u001b[0;36m2921\u001b[0m\u001b[0;34m,\u001b[0m \u001b[0;36m1342\u001b[0m\u001b[0;34m)\u001b[0m\u001b[0;34m,\u001b[0m\u001b[0;34m\u001b[0m\u001b[0;34m\u001b[0m\u001b[0m\n\u001b[1;32m     42\u001b[0m \u001b[0;34m(\u001b[0m\u001b[0;36m1451\u001b[0m\u001b[0;34m,\u001b[0m \u001b[0;36m1025\u001b[0m\u001b[0;34m)\u001b[0m\u001b[0;34m,\u001b[0m\u001b[0;34m\u001b[0m\u001b[0;34m\u001b[0m\u001b[0m\n\u001b[0;32m---> 43\u001b[0;31m \u001b[0;34m(\u001b[0m\u001b[0;36m2028\u001b[0m\u001b[0;34m,\u001b[0m \u001b[0;36m1406\u001b[0m\u001b[0;34m)\u001b[0m\u001b[0;34m\u001b[0m\u001b[0;34m\u001b[0m\u001b[0m\n\u001b[0m\u001b[1;32m     44\u001b[0m \u001b[0;34m(\u001b[0m\u001b[0;36m2380\u001b[0m\u001b[0;34m,\u001b[0m \u001b[0;36m1031\u001b[0m\u001b[0;34m)\u001b[0m\u001b[0;34m\u001b[0m\u001b[0;34m\u001b[0m\u001b[0m\n\u001b[1;32m     45\u001b[0m \u001b[0;34m(\u001b[0m\u001b[0;36m1932\u001b[0m\u001b[0;34m,\u001b[0m \u001b[0;36m978\u001b[0m\u001b[0;34m)\u001b[0m\u001b[0;34m\u001b[0m\u001b[0;34m\u001b[0m\u001b[0m\n",
      "\u001b[0;31mTypeError\u001b[0m: 'tuple' object is not callable"
     ]
    }
   ],
   "source": [
    "X=[(1048, 975),\n",
    "(2238, 1060),\n",
    "(1143, 712),\n",
    "(1060, 1113),\n",
    "(2116, 1259),\n",
    "(2997, 1402),\n",
    "(1983, 838),\n",
    "(2672, 1187),\n",
    "(1770, 741),\n",
    "(1015, 932),\n",
    "(1599, 870),\n",
    "(2728, 1158),\n",
    "(1474, 988),\n",
    "(1381, 1119),\n",
    "(1782, 1075),\n",
    "(1692, 1177),\n",
    "(1693, 1155),\n",
    "(1441, 923),\n",
    "(2596, 1081),\n",
    "(2851, 1493),\n",
    "(1785, 827),\n",
    "(1112, 851),\n",
    "(1908, 889),\n",
    "(2986, 1218),\n",
    "(1125, 1004),\n",
    "(1018, 917),\n",
    "(2481, 1360),\n",
    "(1153, 855),\n",
    "(1296, 1033),\n",
    "(2466, 1207),\n",
    "(2466, 1100),\n",
    "(1519, 1150),\n",
    "(2872, 1499),\n",
    "(2235, 1000),\n",
    "(2188, 1166),\n",
    "(1595, 697),\n",
    "(2864, 1191),\n",
    "(1933, 810),\n",
    "(1155, 962),\n",
    "(2697, 1368),\n",
    "(2921, 1342),\n",
    "(1451, 1025),\n",
    "(2028, 1406)\n",
    "(2380, 1031)\n",
    "(1932, 978)\n",
    "(1068, 1210)\n",
    "(2820, 1164)\n",
    "(1635, 1027)\n",
    "(1266, 947)\n",
    "(1496, 959)\n",
    "]"
   ]
  },
  {
   "cell_type": "code",
   "execution_count": null,
   "metadata": {},
   "outputs": [
    {
     "data": {
      "text/plain": [
       "<matplotlib.collections.PathCollection at 0x1292fef70>"
      ]
     },
     "execution_count": 6,
     "metadata": {},
     "output_type": "execute_result"
    },
    {
     "data": {
      "image/png": "[encoded data removed]",
      "text/plain": [
       "<Figure size 432x288 with 1 Axes>"
      ]
     },
     "metadata": {
      "needs_background": "light"
     },
     "output_type": "display_data"
    }
   ],
   "source": [
    "plt.scatter([x for x, y in X], [y for x, y in X])"
   ]
  },
  {
   "cell_type": "code",
   "execution_count": 8,
   "metadata": {},
   "outputs": [],
   "source": [
    "X2 = [\n",
    "    (2414, 1287),\n",
    "(1711, 953),\n",
    "(1673, 990),\n",
    "(2378, 829),\n",
    "(2010, 921),\n",
    "(1467, 1062),\n",
    "(1162, 1221),\n",
    "(1466, 1166),\n",
    "(2726, 1317),\n",
    "(1317, 929),\n",
    "(1232, 1539),\n",
    "(1023, 1183),\n",
    "(2768, 1130),\n",
    "(2083, 1488),\n",
    "(2966, 1141),\n",
    "(1079, 916),\n",
    "(1570, 1087),\n",
    "(2198, 1229),\n",
    "(1049, 1248),\n",
    "(2421, 991),\n",
    "(2410, 1553),\n",
    "(1872, 1278),\n",
    "(1294, 971),\n",
    "(2048, 1039),\n",
    "(1926, 957),\n",
    "(1664, 1390),\n",
    "(2459, 1073),\n",
    "(2470, 1097),\n",
    "(1424, 996),\n",
    "(1996, 1093),\n",
    "(2680, 1021),\n",
    "(1396, 1159),\n",
    "(2254, 1359),\n",
    "(2953, 1093),\n",
    "(2114, 1179),\n",
    "(1101, 745),\n",
    "(2633, 1098),\n",
    "(1374, 1252),\n",
    "(1041, 989),\n",
    "(2437, 1597),\n",
    "(2604, 1127),\n",
    "(2842, 1263),\n",
    "(2433, 1028),\n",
    "(2412, 953),\n",
    "(1040, 1044),\n",
    "(1655, 990),\n",
    "(2212, 1086),\n",
    "(1873, 1290),\n",
    "(1770, 1067),\n",
    "(2010, 1071),\n",
    "\n",
    "]"
   ]
  },
  {
   "cell_type": "code",
   "execution_count": 9,
   "metadata": {},
   "outputs": [
    {
     "data": {
      "text/plain": [
       "<matplotlib.collections.PathCollection at 0x129f2ff10>"
      ]
     },
     "execution_count": 9,
     "metadata": {},
     "output_type": "execute_result"
    },
    {
     "data": {
      "image/png": "[encoded data removed]",
      "text/plain": [
       "<Figure size 432x288 with 1 Axes>"
      ]
     },
     "metadata": {
      "needs_background": "light"
     },
     "output_type": "display_data"
    }
   ],
   "source": [
    "plt.scatter([x for x, y in X2], [y for x, y in X2])"
   ]
  },
  {
   "cell_type": "code",
   "execution_count": 10,
   "metadata": {},
   "outputs": [
    {
     "data": {
      "text/plain": [
       "<matplotlib.collections.PathCollection at 0x129fa3100>"
      ]
     },
     "execution_count": 10,
     "metadata": {},
     "output_type": "execute_result"
    },
    {
     "data": {
      "image/png": "[encoded data removed]",
      "text/plain": [
       "<Figure size 432x288 with 1 Axes>"
      ]
     },
     "metadata": {
      "needs_background": "light"
     },
     "output_type": "display_data"
    }
   ],
   "source": [
    "plt.scatter([x for x, y in X+X2], [y for x, y in X+X2])"
   ]
  }
 ],
 "metadata": {
  "interpreter": {
   "hash": "e0f0f84a0175320f76a32b3666ff481fa43fbbd161a0c5f133a0ad0008dabc7a"
  },
  "kernelspec": {
   "display_name": "Python 3.9.7 64-bit ('atcoder': venv)",
   "name": "python3"
  },
  "language_info": {
   "codemirror_mode": {
    "name": "ipython",
    "version": 3
   },
   "file_extension": ".py",
   "mimetype": "text/x-python",
   "name": "python",
   "nbconvert_exporter": "python",
   "pygments_lexer": "ipython3",
   "version": "3.9.7"
  },
  "orig_nbformat": 4
 },
 "nbformat": 4,
 "nbformat_minor": 2
}
