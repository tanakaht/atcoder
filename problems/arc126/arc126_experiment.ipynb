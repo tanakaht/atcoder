{
 "cells": [
  {
   "cell_type": "code",
   "execution_count": 1,
   "source": [
    "import math, sys, heapq, itertools\n",
    "from collections import *\n",
    "import numpy as np\n"
   ],
   "outputs": [],
   "metadata": {}
  },
  {
   "cell_type": "code",
   "execution_count": 11,
   "source": [
    "ans = 0\n",
    "N1, N2 = 200000, 1000000\n",
    "for i in range(N1):\n",
    "    av = set([i//j for j in range(1, int(math.sqrt(N1))+2)])\n",
    "    ans = max(ans, len(av))\n",
    "print(ans)\n"
   ],
   "outputs": [
    {
     "output_type": "stream",
     "name": "stdout",
     "text": [
      "448\n"
     ]
    }
   ],
   "metadata": {}
  },
  {
   "cell_type": "code",
   "execution_count": 12,
   "source": [
    "N = 10000000\n",
    "N, len(set([N//i for i in range(1, N+1)]))"
   ],
   "outputs": [
    {
     "output_type": "execute_result",
     "data": {
      "text/plain": [
       "(10000000, 6323)"
      ]
     },
     "metadata": {},
     "execution_count": 12
    }
   ],
   "metadata": {}
  },
  {
   "cell_type": "code",
   "execution_count": 17,
   "source": [
    "N = int(2*1e5)\n",
    "sum([math.sqrt(i) for i in range(1, N)])/(N*math.sqrt(N))"
   ],
   "outputs": [
    {
     "output_type": "execute_result",
     "data": {
      "text/plain": [
       "0.6666641643434774"
      ]
     },
     "metadata": {},
     "execution_count": 17
    }
   ],
   "metadata": {}
  }
 ],
 "metadata": {
  "orig_nbformat": 4,
  "language_info": {
   "name": "python",
   "version": "3.9.7",
   "mimetype": "text/x-python",
   "codemirror_mode": {
    "name": "ipython",
    "version": 3
   },
   "pygments_lexer": "ipython3",
   "nbconvert_exporter": "python",
   "file_extension": ".py"
  },
  "kernelspec": {
   "name": "python3",
   "display_name": "Python 3.9.7 64-bit ('atcoder': venv)"
  },
  "interpreter": {
   "hash": "f4c7524dd99dfcb4e3a376c414b8e51d5ba93a0e84ba582503f4033119979259"
  }
 },
 "nbformat": 4,
 "nbformat_minor": 2
}