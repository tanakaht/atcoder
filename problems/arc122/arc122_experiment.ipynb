{
 "metadata": {
  "language_info": {
   "codemirror_mode": {
    "name": "ipython",
    "version": 3
   },
   "file_extension": ".py",
   "mimetype": "text/x-python",
   "name": "python",
   "nbconvert_exporter": "python",
   "pygments_lexer": "ipython3",
   "version": "3.9.2"
  },
  "orig_nbformat": 2,
  "kernelspec": {
   "name": "python392jvsc74a57bd0f4c7524dd99dfcb4e3a376c414b8e51d5ba93a0e84ba582503f4033119979259",
   "display_name": "Python 3.9.2 64-bit ('atcoder': venv)"
  }
 },
 "nbformat": 4,
 "nbformat_minor": 2,
 "cells": [
  {
   "cell_type": "code",
   "execution_count": 7,
   "metadata": {},
   "outputs": [
    {
     "output_type": "execute_result",
     "data": {
      "text/plain": [
       "<matplotlib.image.AxesImage at 0x12cb615b0>"
      ]
     },
     "metadata": {},
     "execution_count": 7
    },
    {
     "output_type": "display_data",
     "data": {
      "text/plain": "<Figure size 432x288 with 1 Axes>",
      "image/svg+xml": "<?xml version=\"1.0\" encoding=\"utf-8\" standalone=\"no\"?>\n<!DOCTYPE svg PUBLIC \"-//W3C//DTD SVG 1.1//EN\"\n  \"http://www.w3.org/Graphics/SVG/1.1/DTD/svg11.dtd\">\n<svg height=\"248.518125pt\" version=\"1.1\" viewBox=\"0 0 261.105625 248.518125\" width=\"261.105625pt\" xmlns=\"http://www.w3.org/2000/svg\" xmlns:xlink=\"http://www.w3.org/1999/xlink\">\n <metadata>\n  <rdf:RDF xmlns:cc=\"http://creativecommons.org/ns#\" xmlns:dc=\"http://purl.org/dc/elements/1.1/\" xmlns:rdf=\"http://www.w3.org/1999/02/22-rdf-syntax-ns#\">\n   <cc:Work>\n    <dc:type rdf:resource=\"http://purl.org/dc/dcmitype/StillImage\"/>\n    <dc:date>2021-06-12T21:39:57.688233</dc:date>\n    <dc:format>image/svg+xml</dc:format>\n    <dc:creator>\n     <cc:Agent>\n      <dc:title>Matplotlib v3.4.2, https://matplotlib.org/</dc:title>\n     </cc:Agent>\n    </dc:creator>\n   </cc:Work>\n  </rdf:RDF>\n </metadata>\n <defs>\n  <style type=\"text/css\">*{stroke-linecap:butt;stroke-linejoin:round;}</style>\n </defs>\n <g id=\"figure_1\">\n  <g id=\"patch_1\">\n   <path d=\"M 0 248.518125 \nL 261.105625 248.518125 \nL 261.105625 0 \nL 0 0 \nz\n\" style=\"fill:none;\"/>\n  </g>\n  <g id=\"axes_1\">\n   <g id=\"patch_2\">\n    <path d=\"M 36.465625 224.64 \nL 253.905625 224.64 \nL 253.905625 7.2 \nL 36.465625 7.2 \nz\n\" style=\"fill:#ffffff;\"/>\n   </g>\n   <g clip-path=\"url(#peb9b17d6db)\">\n    <image height=\"218\" id=\"imageac16bde670\" transform=\"scale(1 -1)translate(0 -218)\" width=\"218\" x=\"36.465625\" xlink:href=\"data:image/png;base64,\niVBORw0KGgoAAAANSUhEUgAAANoAAADaCAYAAADAHVzbAAAFhElEQVR4nO3dwW5VVRTH4QOctgn0gphomBlIfDGf0zfRaGRgSEQRWpq0pejU4VrG9T/n1u8b7xz27b2/nAErez/48fWLv5ailyfn1aXLq++/K6999OtZee3JxYPy2gknlzPPva3/aVuObb/lf/9Q/tkud4fP9QcfbstLH59fl9c+rO8A+LeEBgFCgwChQYDQIEBoECA0CBAaBAgNAoQGAetPn541lr+vL704KS/tjFVNjBRtPU7UtYexKt/Dslxd1kcHvdEgQGgQIDQIEBoECA0ChAYBQoMAoUGA0CBAaBCw/nD9Yus9tFTHdDojQnsYadqDzt9h4rPt4WSrzuhghzcaBAgNAoQGAUKDAKFBgNAgQGgQIDQIEBoECA0C1p+vvxp58KOLmYYnxqVOP9RHf26ezlyE2Plce9hvR3W0ag9jVVO/W280CBAaBAgNAoQGAUKDAKFBgNAgQGgQIDQIEBoErL9cfbn1HsZOodrafR6r2tzQWFXnUswObzQIEBoECA0ChAYBQoMAoUGA0CBAaBAgNAgQGgSsbz4+HXnw1ChLdVRpD2NKU2NVU8/tXC44cWng2Mlpjd/i1GWM3mgQIDQIEBoECA0ChAYBQoMAoUGA0CBAaBCwvr18svUeWqqTDvf5sJtjmvZYlvrEx9Q00R54o0GA0CBAaBAgNAgQGgQIDQKEBgFCgwChQYDQIGC9ujwrL37bePDU3WBbm9rrsY2MTdw5tod78joja539eqNBgNAgQGgQIDQIEBoECA0ChAYBQoMAoUGA0CBgXS5OyouvGg8+9PeymT2MgO3hZKupU6j2MFpVNbVXbzQIEBoECA0ChAYBQoMAoUGA0CBAaBAgNAgQGgSsndOM7pb6uNbUWNPZRe0CvOtD/XNVn9l97h50xqqmxo+qv4XOGNoeTg3rjMId168GjpTQIEBoECA0CBAaBAgNAoQGAUKDAKFBgNAgYO2dfDTT5X0dgZo62WrrUall6X226tqpf7/zt51yPL9aOGJCgwChQYDQIEBoECA0CBAaBAgNAoQGAUKDgLU3zlMfezm7uGtvpvbc+rjWMel8D3u4OHFiD3sYq3IRIRwxoUGA0CBAaBAgNAgQGgQIDQKEBgFCgwChQcDaG6WZudBta52TtaYuyzs2U5f7VU2NSk3xRoMAoUGA0CBAaBAgNAgQGgQIDQKEBgFCgwChQcDaO1Wq3uXpn5/6u/kP3Xyxjjy3M1a1hxO7psbLOrYeRdvD6VreaBAgNAgQGgQIDQKEBgFCgwChQYDQIEBoECA0CFh7o1IzY00dE6NVxzYqNWVqVGrrE7M6Oqdrdca1tv924X9AaBAgNAgQGgQIDQKEBgFCgwChQYDQIEBoELCevr8ZeXDnuTfPTuvPLY6MdUa1OmNoU6drdXRGxqZGuyYuZJwa1eqMSk1dcOiNBgFCgwChQYDQIEBoECA0CBAaBAgNAoQGAevDd/X/Cj9dZi6Pmpgi2fp+tq49THtMmZj4mLrHrPPc20P9MKPj+sbgSAkNAoQGAUKDAKFBgNAgQGgQIDQIEBoECA0C1uXd+/LiqSo/P6/PvVTHtToH/uzBHg7R6ZgYgeqMNHXcHYbuvzvclpd6o0GA0CBAaBAgNAgQGgQIDQKEBgFCgwChQYDQIGC9+/2P8uJHnSc/f9beTEV1tKpzj1ln/Kkz0jR1olJrpKgxJvT4/Lq89uvzj+W1L558KK375nH9t/jy7Lfy2m/P3pTXvlrrI4kvT+pfsDcaBAgNAoQGAUKDAKFBgNAgQGgQIDQIEBoECA0C6nNKy7JMjWt1ap+5DLHzZ+jstnMCVWdtfQ93y0l57VVjB28ba++v7U+QA/5BaBAgNAgQGgQIDQKEBgFCgwChQYDQIEBoEPA3RIUkCwdoWTAAAAAASUVORK5CYII=\" y=\"-6.64\"/>\n   </g>\n   <g id=\"matplotlib.axis_1\">\n    <g id=\"xtick_1\">\n     <g id=\"line2d_1\">\n      <defs>\n       <path d=\"M 0 0 \nL 0 3.5 \n\" id=\"me736f66446\" style=\"stroke:#000000;stroke-width:0.8;\"/>\n      </defs>\n      <g>\n       <use style=\"stroke:#000000;stroke-width:0.8;\" x=\"41.901625\" xlink:href=\"#me736f66446\" y=\"224.64\"/>\n      </g>\n     </g>\n     <g id=\"text_1\">\n      <!-- 0 -->\n      <g transform=\"translate(38.720375 239.238438)scale(0.1 -0.1)\">\n       <defs>\n        <path d=\"M 2034 4250 \nQ 1547 4250 1301 3770 \nQ 1056 3291 1056 2328 \nQ 1056 1369 1301 889 \nQ 1547 409 2034 409 \nQ 2525 409 2770 889 \nQ 3016 1369 3016 2328 \nQ 3016 3291 2770 3770 \nQ 2525 4250 2034 4250 \nz\nM 2034 4750 \nQ 2819 4750 3233 4129 \nQ 3647 3509 3647 2328 \nQ 3647 1150 3233 529 \nQ 2819 -91 2034 -91 \nQ 1250 -91 836 529 \nQ 422 1150 422 2328 \nQ 422 3509 836 4129 \nQ 1250 4750 2034 4750 \nz\n\" id=\"DejaVuSans-30\" transform=\"scale(0.015625)\"/>\n       </defs>\n       <use xlink:href=\"#DejaVuSans-30\"/>\n      </g>\n     </g>\n    </g>\n    <g id=\"xtick_2\">\n     <g id=\"line2d_2\">\n      <g>\n       <use style=\"stroke:#000000;stroke-width:0.8;\" x=\"96.261625\" xlink:href=\"#me736f66446\" y=\"224.64\"/>\n      </g>\n     </g>\n     <g id=\"text_2\">\n      <!-- 5 -->\n      <g transform=\"translate(93.080375 239.238438)scale(0.1 -0.1)\">\n       <defs>\n        <path d=\"M 691 4666 \nL 3169 4666 \nL 3169 4134 \nL 1269 4134 \nL 1269 2991 \nQ 1406 3038 1543 3061 \nQ 1681 3084 1819 3084 \nQ 2600 3084 3056 2656 \nQ 3513 2228 3513 1497 \nQ 3513 744 3044 326 \nQ 2575 -91 1722 -91 \nQ 1428 -91 1123 -41 \nQ 819 9 494 109 \nL 494 744 \nQ 775 591 1075 516 \nQ 1375 441 1709 441 \nQ 2250 441 2565 725 \nQ 2881 1009 2881 1497 \nQ 2881 1984 2565 2268 \nQ 2250 2553 1709 2553 \nQ 1456 2553 1204 2497 \nQ 953 2441 691 2322 \nL 691 4666 \nz\n\" id=\"DejaVuSans-35\" transform=\"scale(0.015625)\"/>\n       </defs>\n       <use xlink:href=\"#DejaVuSans-35\"/>\n      </g>\n     </g>\n    </g>\n    <g id=\"xtick_3\">\n     <g id=\"line2d_3\">\n      <g>\n       <use style=\"stroke:#000000;stroke-width:0.8;\" x=\"150.621625\" xlink:href=\"#me736f66446\" y=\"224.64\"/>\n      </g>\n     </g>\n     <g id=\"text_3\">\n      <!-- 10 -->\n      <g transform=\"translate(144.259125 239.238438)scale(0.1 -0.1)\">\n       <defs>\n        <path d=\"M 794 531 \nL 1825 531 \nL 1825 4091 \nL 703 3866 \nL 703 4441 \nL 1819 4666 \nL 2450 4666 \nL 2450 531 \nL 3481 531 \nL 3481 0 \nL 794 0 \nL 794 531 \nz\n\" id=\"DejaVuSans-31\" transform=\"scale(0.015625)\"/>\n       </defs>\n       <use xlink:href=\"#DejaVuSans-31\"/>\n       <use x=\"63.623047\" xlink:href=\"#DejaVuSans-30\"/>\n      </g>\n     </g>\n    </g>\n    <g id=\"xtick_4\">\n     <g id=\"line2d_4\">\n      <g>\n       <use style=\"stroke:#000000;stroke-width:0.8;\" x=\"204.981625\" xlink:href=\"#me736f66446\" y=\"224.64\"/>\n      </g>\n     </g>\n     <g id=\"text_4\">\n      <!-- 15 -->\n      <g transform=\"translate(198.619125 239.238438)scale(0.1 -0.1)\">\n       <use xlink:href=\"#DejaVuSans-31\"/>\n       <use x=\"63.623047\" xlink:href=\"#DejaVuSans-35\"/>\n      </g>\n     </g>\n    </g>\n   </g>\n   <g id=\"matplotlib.axis_2\">\n    <g id=\"ytick_1\">\n     <g id=\"line2d_5\">\n      <defs>\n       <path d=\"M 0 0 \nL -3.5 0 \n\" id=\"m3955a2ccbd\" style=\"stroke:#000000;stroke-width:0.8;\"/>\n      </defs>\n      <g>\n       <use style=\"stroke:#000000;stroke-width:0.8;\" x=\"36.465625\" xlink:href=\"#m3955a2ccbd\" y=\"12.636\"/>\n      </g>\n     </g>\n     <g id=\"text_5\">\n      <!-- 0.0 -->\n      <g transform=\"translate(13.5625 16.435219)scale(0.1 -0.1)\">\n       <defs>\n        <path d=\"M 684 794 \nL 1344 794 \nL 1344 0 \nL 684 0 \nL 684 794 \nz\n\" id=\"DejaVuSans-2e\" transform=\"scale(0.015625)\"/>\n       </defs>\n       <use xlink:href=\"#DejaVuSans-30\"/>\n       <use x=\"63.623047\" xlink:href=\"#DejaVuSans-2e\"/>\n       <use x=\"95.410156\" xlink:href=\"#DejaVuSans-30\"/>\n      </g>\n     </g>\n    </g>\n    <g id=\"ytick_2\">\n     <g id=\"line2d_6\">\n      <g>\n       <use style=\"stroke:#000000;stroke-width:0.8;\" x=\"36.465625\" xlink:href=\"#m3955a2ccbd\" y=\"39.816\"/>\n      </g>\n     </g>\n     <g id=\"text_6\">\n      <!-- 2.5 -->\n      <g transform=\"translate(13.5625 43.615219)scale(0.1 -0.1)\">\n       <defs>\n        <path d=\"M 1228 531 \nL 3431 531 \nL 3431 0 \nL 469 0 \nL 469 531 \nQ 828 903 1448 1529 \nQ 2069 2156 2228 2338 \nQ 2531 2678 2651 2914 \nQ 2772 3150 2772 3378 \nQ 2772 3750 2511 3984 \nQ 2250 4219 1831 4219 \nQ 1534 4219 1204 4116 \nQ 875 4013 500 3803 \nL 500 4441 \nQ 881 4594 1212 4672 \nQ 1544 4750 1819 4750 \nQ 2544 4750 2975 4387 \nQ 3406 4025 3406 3419 \nQ 3406 3131 3298 2873 \nQ 3191 2616 2906 2266 \nQ 2828 2175 2409 1742 \nQ 1991 1309 1228 531 \nz\n\" id=\"DejaVuSans-32\" transform=\"scale(0.015625)\"/>\n       </defs>\n       <use xlink:href=\"#DejaVuSans-32\"/>\n       <use x=\"63.623047\" xlink:href=\"#DejaVuSans-2e\"/>\n       <use x=\"95.410156\" xlink:href=\"#DejaVuSans-35\"/>\n      </g>\n     </g>\n    </g>\n    <g id=\"ytick_3\">\n     <g id=\"line2d_7\">\n      <g>\n       <use style=\"stroke:#000000;stroke-width:0.8;\" x=\"36.465625\" xlink:href=\"#m3955a2ccbd\" y=\"66.996\"/>\n      </g>\n     </g>\n     <g id=\"text_7\">\n      <!-- 5.0 -->\n      <g transform=\"translate(13.5625 70.795219)scale(0.1 -0.1)\">\n       <use xlink:href=\"#DejaVuSans-35\"/>\n       <use x=\"63.623047\" xlink:href=\"#DejaVuSans-2e\"/>\n       <use x=\"95.410156\" xlink:href=\"#DejaVuSans-30\"/>\n      </g>\n     </g>\n    </g>\n    <g id=\"ytick_4\">\n     <g id=\"line2d_8\">\n      <g>\n       <use style=\"stroke:#000000;stroke-width:0.8;\" x=\"36.465625\" xlink:href=\"#m3955a2ccbd\" y=\"94.176\"/>\n      </g>\n     </g>\n     <g id=\"text_8\">\n      <!-- 7.5 -->\n      <g transform=\"translate(13.5625 97.975219)scale(0.1 -0.1)\">\n       <defs>\n        <path d=\"M 525 4666 \nL 3525 4666 \nL 3525 4397 \nL 1831 0 \nL 1172 0 \nL 2766 4134 \nL 525 4134 \nL 525 4666 \nz\n\" id=\"DejaVuSans-37\" transform=\"scale(0.015625)\"/>\n       </defs>\n       <use xlink:href=\"#DejaVuSans-37\"/>\n       <use x=\"63.623047\" xlink:href=\"#DejaVuSans-2e\"/>\n       <use x=\"95.410156\" xlink:href=\"#DejaVuSans-35\"/>\n      </g>\n     </g>\n    </g>\n    <g id=\"ytick_5\">\n     <g id=\"line2d_9\">\n      <g>\n       <use style=\"stroke:#000000;stroke-width:0.8;\" x=\"36.465625\" xlink:href=\"#m3955a2ccbd\" y=\"121.356\"/>\n      </g>\n     </g>\n     <g id=\"text_9\">\n      <!-- 10.0 -->\n      <g transform=\"translate(7.2 125.155219)scale(0.1 -0.1)\">\n       <use xlink:href=\"#DejaVuSans-31\"/>\n       <use x=\"63.623047\" xlink:href=\"#DejaVuSans-30\"/>\n       <use x=\"127.246094\" xlink:href=\"#DejaVuSans-2e\"/>\n       <use x=\"159.033203\" xlink:href=\"#DejaVuSans-30\"/>\n      </g>\n     </g>\n    </g>\n    <g id=\"ytick_6\">\n     <g id=\"line2d_10\">\n      <g>\n       <use style=\"stroke:#000000;stroke-width:0.8;\" x=\"36.465625\" xlink:href=\"#m3955a2ccbd\" y=\"148.536\"/>\n      </g>\n     </g>\n     <g id=\"text_10\">\n      <!-- 12.5 -->\n      <g transform=\"translate(7.2 152.335219)scale(0.1 -0.1)\">\n       <use xlink:href=\"#DejaVuSans-31\"/>\n       <use x=\"63.623047\" xlink:href=\"#DejaVuSans-32\"/>\n       <use x=\"127.246094\" xlink:href=\"#DejaVuSans-2e\"/>\n       <use x=\"159.033203\" xlink:href=\"#DejaVuSans-35\"/>\n      </g>\n     </g>\n    </g>\n    <g id=\"ytick_7\">\n     <g id=\"line2d_11\">\n      <g>\n       <use style=\"stroke:#000000;stroke-width:0.8;\" x=\"36.465625\" xlink:href=\"#m3955a2ccbd\" y=\"175.716\"/>\n      </g>\n     </g>\n     <g id=\"text_11\">\n      <!-- 15.0 -->\n      <g transform=\"translate(7.2 179.515219)scale(0.1 -0.1)\">\n       <use xlink:href=\"#DejaVuSans-31\"/>\n       <use x=\"63.623047\" xlink:href=\"#DejaVuSans-35\"/>\n       <use x=\"127.246094\" xlink:href=\"#DejaVuSans-2e\"/>\n       <use x=\"159.033203\" xlink:href=\"#DejaVuSans-30\"/>\n      </g>\n     </g>\n    </g>\n    <g id=\"ytick_8\">\n     <g id=\"line2d_12\">\n      <g>\n       <use style=\"stroke:#000000;stroke-width:0.8;\" x=\"36.465625\" xlink:href=\"#m3955a2ccbd\" y=\"202.896\"/>\n      </g>\n     </g>\n     <g id=\"text_12\">\n      <!-- 17.5 -->\n      <g transform=\"translate(7.2 206.695219)scale(0.1 -0.1)\">\n       <use xlink:href=\"#DejaVuSans-31\"/>\n       <use x=\"63.623047\" xlink:href=\"#DejaVuSans-37\"/>\n       <use x=\"127.246094\" xlink:href=\"#DejaVuSans-2e\"/>\n       <use x=\"159.033203\" xlink:href=\"#DejaVuSans-35\"/>\n      </g>\n     </g>\n    </g>\n   </g>\n   <g id=\"patch_3\">\n    <path d=\"M 36.465625 224.64 \nL 36.465625 7.2 \n\" style=\"fill:none;stroke:#000000;stroke-linecap:square;stroke-linejoin:miter;stroke-width:0.8;\"/>\n   </g>\n   <g id=\"patch_4\">\n    <path d=\"M 253.905625 224.64 \nL 253.905625 7.2 \n\" style=\"fill:none;stroke:#000000;stroke-linecap:square;stroke-linejoin:miter;stroke-width:0.8;\"/>\n   </g>\n   <g id=\"patch_5\">\n    <path d=\"M 36.465625 224.64 \nL 253.905625 224.64 \n\" style=\"fill:none;stroke:#000000;stroke-linecap:square;stroke-linejoin:miter;stroke-width:0.8;\"/>\n   </g>\n   <g id=\"patch_6\">\n    <path d=\"M 36.465625 7.2 \nL 253.905625 7.2 \n\" style=\"fill:none;stroke:#000000;stroke-linecap:square;stroke-linejoin:miter;stroke-width:0.8;\"/>\n   </g>\n  </g>\n </g>\n <defs>\n  <clipPath id=\"peb9b17d6db\">\n   <rect height=\"217.44\" width=\"217.44\" x=\"36.465625\" y=\"7.2\"/>\n  </clipPath>\n </defs>\n</svg>\n",
      "image/png": "[encoded data removed]"
     },
     "metadata": {
      "needs_background": "light"
     }
    }
   ],
   "source": [
    "import matplotlib.pyplot as plt\n",
    "import numpy as np\n",
    "\n",
    "N = 20\n",
    "cnts = np.zeros((N, N), dtype=int)\n",
    "pre_reach = set([(0, 0)]) \n",
    "appeared = np.zeros((N, N))\n",
    "for i in range(20):\n",
    "    new_reach = set()\n",
    "    for x, y in pre_reach:\n",
    "        x_, y_ = x+1, y\n",
    "        if x_<N and y_<N and not appeared[x_, y_]:\n",
    "            new_reach.add((x_, y_))\n",
    "            appeared[x_, y_] = True\n",
    "            cnts[x_, y_] = i\n",
    "        x_, y_ = x, y+1\n",
    "        if x_<N and y_<N and not appeared[x_, y_]:\n",
    "            new_reach.add((x_, y_))\n",
    "            appeared[x_, y_] = True\n",
    "            cnts[x_, y_] = i\n",
    "        x_, y_ = x+y, y\n",
    "        if x_<N and y_<N and not appeared[x_, y_]:\n",
    "            new_reach.add((x_, y_))\n",
    "            appeared[x_, y_] = True\n",
    "            cnts[x_, y_] = i\n",
    "        x_, y_ = x, x+y\n",
    "        if x_<N and y_<N and not appeared[x_, y_]:\n",
    "            new_reach.add((x_, y_))\n",
    "            appeared[x_, y_] = True\n",
    "            cnts[x_, y_] = i\n",
    "    pre_reach = new_reach\n",
    "plt.imshow(cnts)\n"
   ]
  },
  {
   "cell_type": "code",
   "execution_count": 8,
   "metadata": {},
   "outputs": [
    {
     "output_type": "execute_result",
     "data": {
      "text/plain": [
       "array([[ 0,  0,  1,  2,  3,  4,  5,  6,  7,  8,  9, 10, 11, 12, 13, 14,\n",
       "        15, 16, 17, 18],\n",
       "       [ 0,  1,  2,  3,  4,  5,  6,  7,  8,  9, 10, 11, 12, 13, 14, 15,\n",
       "        16, 17, 18, 19],\n",
       "       [ 1,  2,  2,  3,  3,  4,  4,  5,  5,  6,  6,  7,  7,  8,  8,  9,\n",
       "         9, 10, 10, 11],\n",
       "       [ 2,  3,  3,  3,  4,  4,  4,  5,  5,  5,  6,  6,  6,  7,  7,  7,\n",
       "         8,  8,  8,  9],\n",
       "       [ 3,  4,  3,  4,  4,  5,  4,  5,  5,  6,  5,  6,  6,  7,  6,  7,\n",
       "         7,  8,  7,  8],\n",
       "       [ 4,  5,  4,  4,  5,  5,  5,  5,  5,  6,  6,  6,  6,  6,  7,  7,\n",
       "         7,  7,  7,  8],\n",
       "       [ 5,  6,  4,  4,  4,  5,  6,  6,  5,  5,  5,  6,  7,  7,  6,  6,\n",
       "         6,  7,  8,  8],\n",
       "       [ 6,  7,  5,  5,  5,  5,  6,  7,  6,  6,  6,  6,  6,  7,  7,  7,\n",
       "         7,  7,  7,  7],\n",
       "       [ 7,  8,  5,  5,  5,  5,  5,  6,  7,  7,  6,  6,  6,  6,  6,  7,\n",
       "         8,  8,  7,  7],\n",
       "       [ 8,  9,  6,  5,  6,  6,  5,  6,  7,  8,  7,  7,  6,  7,  7,  6,\n",
       "         7,  8,  8,  8],\n",
       "       [ 9, 10,  6,  6,  5,  6,  5,  6,  6,  7,  8,  8,  7,  7,  6,  7,\n",
       "         6,  7,  7,  8],\n",
       "       [10, 11,  7,  6,  6,  6,  6,  6,  6,  7,  8,  9,  8,  8,  7,  7,\n",
       "         7,  7,  7,  7],\n",
       "       [11, 12,  7,  6,  6,  6,  7,  6,  6,  6,  7,  8,  9,  9,  8,  7,\n",
       "         7,  7,  8,  7],\n",
       "       [12, 13,  8,  7,  7,  6,  7,  7,  6,  7,  7,  8,  9, 10,  9,  8,\n",
       "         8,  8,  7,  8],\n",
       "       [13, 14,  8,  7,  6,  7,  6,  7,  6,  7,  6,  7,  8,  9, 10,  9,\n",
       "         9,  8,  7,  8],\n",
       "       [14, 15,  9,  7,  7,  7,  6,  7,  7,  6,  7,  7,  7,  8,  9, 10,\n",
       "        10,  9,  8,  8],\n",
       "       [15, 16,  9,  8,  7,  7,  6,  7,  8,  7,  6,  7,  7,  8,  9, 10,\n",
       "        11, 10,  9,  9],\n",
       "       [16, 17, 10,  8,  8,  7,  7,  7,  8,  8,  7,  7,  7,  8,  8,  9,\n",
       "        10, 11, 10, 10],\n",
       "       [17, 18, 10,  8,  7,  7,  8,  7,  7,  8,  7,  7,  8,  7,  7,  8,\n",
       "         9, 10, 11, 11],\n",
       "       [18, 19, 11,  9,  8,  8,  8,  7,  7,  8,  8,  7,  7,  8,  8,  8,\n",
       "         9, 10, 11, 12]])"
      ]
     },
     "metadata": {},
     "execution_count": 8
    }
   ],
   "source": [
    "cnts"
   ]
  },
  {
   "cell_type": "code",
   "execution_count": null,
   "metadata": {},
   "outputs": [],
   "source": []
  }
 ]
}