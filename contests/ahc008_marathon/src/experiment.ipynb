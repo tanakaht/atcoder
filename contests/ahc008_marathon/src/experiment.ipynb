{
 "cells": [
  {
   "cell_type": "code",
   "execution_count": 90,
   "metadata": {},
   "outputs": [
    {
     "name": "stdout",
     "output_type": "stream",
     "text": [
      "..............................\n",
      "###############.##############\n",
      "..............................\n",
      "###############.##############\n",
      "..............................\n",
      "###############.##############\n",
      "..............................\n",
      "###############.##############\n",
      "..............................\n",
      "###############.##############\n",
      "..............................\n",
      "###############.##############\n",
      "..............................\n",
      "###############.##############\n",
      "..............................\n",
      "###############.##############\n",
      "..............................\n",
      "###############.##############\n",
      "..............................\n",
      "###############.##############\n",
      "..............................\n",
      "###############.##############\n",
      "..............................\n",
      "###############.##############\n",
      "..............................\n",
      "###############.##############\n",
      "..............................\n",
      "###############.##############\n",
      "..............................\n",
      "###############.##############\n"
     ]
    }
   ],
   "source": [
    "for x in range(30):\n",
    "    line = []\n",
    "    for y in range(30):\n",
    "        s = \"#\" if x%2==1 and y!=15 else \".\"\n",
    "        line.append(s)\n",
    "    print(\"\".join(line))\n"
   ]
  },
  {
   "cell_type": "code",
   "execution_count": 10,
   "metadata": {},
   "outputs": [
    {
     "name": "stdout",
     "output_type": "stream",
     "text": [
      "..............................\n",
      "##############################\n",
      "..............................\n",
      "..............................\n",
      "..............................\n",
      "..............................\n",
      "..............................\n",
      "..............................\n",
      "..............................\n",
      "..............................\n",
      "..............................\n",
      "..............................\n",
      "..............................\n",
      "..............................\n",
      "..............................\n",
      "..............................\n",
      "..............................\n",
      "..............................\n",
      "..............................\n",
      "..............................\n",
      "..............................\n",
      "..............................\n",
      "..............................\n",
      "..............................\n",
      "..............................\n",
      "..............................\n",
      "..............................\n",
      "..............................\n",
      "..............................\n",
      "..............................\n"
     ]
    }
   ],
   "source": [
    "for x in range(30):\n",
    "    line = []\n",
    "    for y in range(30):\n",
    "        s = \"#\" if x==1 else \".\"\n",
    "        line.append(s)\n",
    "    print(\"\".join(line))\n"
   ]
  },
  {
   "cell_type": "code",
   "execution_count": 82,
   "metadata": {},
   "outputs": [],
   "source": [
    "s = \"\"\"0000 58000000\n",
    "0001 49111111\n",
    "0006 26666667\n",
    "0007 23166667\n",
    "0003 49222222\n",
    "0005 23055556\n",
    "0004 55333333\n",
    "0002 21277778\n",
    "0009 22888889\n",
    "0008 23333333\n",
    "0010 53222222\n",
    "0011 48888889\n",
    "0014 23111111\n",
    "0013 54888889\n",
    "0012 23777778\n",
    "0015 10166667\n",
    "0016 28500000\n",
    "0017 28666667\n",
    "0021 55888889\n",
    "0019 12666667\n",
    "0018 21777778\n",
    "0020 3479167\n",
    "0023 3270833\n",
    "0022 26666667\n",
    "0024 25111111\n",
    "0027 29000000\n",
    "0026 25277778\n",
    "0025 50444444\n",
    "0030 24555556\n",
    "0029 2930556\n",
    "0031 58222222\n",
    "0032 48111111\n",
    "0035 48222222\n",
    "0034 2812500\n",
    "0036 13527778\n",
    "0033 56777778\n",
    "0038 50111111\n",
    "0037 13805556\n",
    "0039 40111111\n",
    "0040 25166667\n",
    "0042 12555556\n",
    "0043 13472222\n",
    "0041 59444444\n",
    "0044 25111111\n",
    "0045 2909722\n",
    "0047 51444444\n",
    "0046 24055556\n",
    "0050 21277778\n",
    "0049 55000000\n",
    "0048 24444444\n",
    "0051 20055556\n",
    "0052 7041667\n",
    "0053 13805556\n",
    "0054 53000000\n",
    "0055 29722222\n",
    "0056 44777778\n",
    "0057 46111111\n",
    "0058 25666667\n",
    "0059 50000000\n",
    "0060 43111111\n",
    "0061 6583333\n",
    "0062 23722222\n",
    "0063 23555556\n",
    "0064 25555556\n",
    "0065 25944444\n",
    "0066 49666667\n",
    "0068 27666667\n",
    "0067 53444444\n",
    "0071 54555556\n",
    "0069 25111111\n",
    "0070 39555556\n",
    "0072 12305556\n",
    "0073 26111111\n",
    "0074 29166667\n",
    "0077 47111111\n",
    "0075 23277778\n",
    "0076 50222222\n",
    "0078 26555556\n",
    "0079 25666667\n",
    "0080 27222222\n",
    "0083 25055556\n",
    "0081 26055556\n",
    "0084 6333333\n",
    "0082 29000000\n",
    "0085 22944444\n",
    "0086 5694444\n",
    "0087 51444444\n",
    "0089 27055556\n",
    "0088 45000000\n",
    "0091 43666667\n",
    "0092 11527778\n",
    "0090 24555556\n",
    "0093 52555556\n",
    "0094 25222222\n",
    "0095 13166667\n",
    "0096 27055556\n",
    "0098 14333333\n",
    "0097 22333333\n",
    "0099 12111111\n",
    "0100 11861111\"\"\"\n",
    "\n",
    "scores = {}\n",
    "for line in s.split(\"\\n\"):\n",
    "    i, j = line.split(\" \")\n",
    "    scores[int(i)] = int(j)\n",
    "\n"
   ]
  },
  {
   "cell_type": "code",
   "execution_count": 83,
   "metadata": {},
   "outputs": [
    {
     "data": {
      "text/plain": [
       "{0: (10, 5, [0, 3, 7, 0, 0, 0]),\n",
       " 1: (20, 6, [0, 3, 5, 4, 4, 4]),\n",
       " 2: (19, 7, [0, 2, 3, 5, 3, 6]),\n",
       " 3: (13, 5, [0, 4, 2, 1, 3, 3]),\n",
       " 4: (10, 7, [0, 1, 2, 2, 3, 2]),\n",
       " 5: (17, 10, [0, 3, 6, 1, 2, 5]),\n",
       " 6: (15, 6, [0, 2, 1, 1, 5, 6]),\n",
       " 7: (16, 8, [0, 3, 5, 4, 2, 2]),\n",
       " 8: (15, 10, [0, 3, 4, 4, 1, 3]),\n",
       " 9: (17, 5, [0, 1, 4, 5, 5, 2]),\n",
       " 10: (11, 10, [0, 2, 2, 2, 2, 3]),\n",
       " 11: (18, 9, [0, 2, 2, 4, 5, 5]),\n",
       " 12: (18, 8, [0, 3, 4, 2, 6, 3]),\n",
       " 13: (16, 10, [0, 3, 1, 4, 4, 4]),\n",
       " 14: (20, 10, [0, 4, 4, 3, 4, 5]),\n",
       " 15: (20, 10, [0, 6, 3, 6, 1, 4]),\n",
       " 16: (10, 10, [0, 2, 1, 1, 3, 3]),\n",
       " 17: (13, 5, [0, 2, 1, 2, 4, 4]),\n",
       " 18: (16, 9, [0, 1, 2, 3, 2, 8]),\n",
       " 19: (14, 8, [0, 5, 4, 2, 1, 2]),\n",
       " 20: (12, 6, [0, 5, 2, 2, 0, 3]),\n",
       " 21: (11, 5, [0, 4, 3, 1, 2, 1]),\n",
       " 22: (15, 7, [0, 9, 0, 1, 3, 2]),\n",
       " 23: (17, 5, [0, 5, 5, 1, 3, 3]),\n",
       " 24: (16, 6, [0, 2, 4, 3, 4, 3]),\n",
       " 25: (14, 10, [0, 4, 1, 4, 2, 3]),\n",
       " 26: (15, 10, [0, 1, 2, 4, 5, 3]),\n",
       " 27: (12, 6, [0, 3, 1, 2, 5, 1]),\n",
       " 28: (18, 9, [0, 2, 5, 5, 4, 2]),\n",
       " 29: (17, 5, [0, 4, 4, 1, 1, 7]),\n",
       " 30: (18, 7, [0, 2, 5, 4, 5, 2]),\n",
       " 31: (10, 9, [0, 1, 2, 2, 2, 3]),\n",
       " 32: (13, 5, [0, 0, 3, 4, 3, 3]),\n",
       " 33: (10, 9, [0, 2, 3, 1, 2, 2]),\n",
       " 34: (20, 5, [0, 3, 4, 4, 4, 5]),\n",
       " 35: (11, 7, [0, 1, 3, 3, 0, 4]),\n",
       " 36: (12, 8, [0, 3, 4, 2, 0, 3]),\n",
       " 37: (12, 8, [0, 2, 3, 5, 2, 0]),\n",
       " 38: (14, 8, [0, 0, 3, 3, 4, 4]),\n",
       " 39: (20, 10, [0, 3, 6, 6, 2, 3]),\n",
       " 40: (16, 7, [0, 4, 5, 2, 2, 3]),\n",
       " 41: (13, 10, [0, 2, 4, 0, 6, 1]),\n",
       " 42: (13, 7, [0, 4, 5, 2, 1, 1]),\n",
       " 43: (14, 5, [0, 4, 2, 1, 4, 3]),\n",
       " 44: (13, 5, [0, 1, 4, 2, 3, 3]),\n",
       " 45: (19, 7, [0, 5, 0, 2, 4, 8]),\n",
       " 46: (19, 9, [0, 3, 5, 6, 3, 2]),\n",
       " 47: (13, 6, [0, 5, 2, 3, 0, 3]),\n",
       " 48: (20, 8, [0, 6, 5, 2, 5, 2]),\n",
       " 49: (11, 8, [0, 3, 0, 1, 4, 3]),\n",
       " 50: (18, 5, [0, 1, 6, 6, 1, 4]),\n",
       " 51: (19, 5, [0, 2, 2, 6, 2, 7]),\n",
       " 52: (12, 8, [0, 4, 1, 2, 3, 2]),\n",
       " 53: (12, 6, [0, 6, 1, 0, 2, 3]),\n",
       " 54: (13, 8, [0, 5, 2, 0, 3, 3]),\n",
       " 55: (13, 6, [0, 3, 2, 3, 5, 0]),\n",
       " 56: (16, 5, [0, 4, 0, 5, 3, 4]),\n",
       " 57: (15, 6, [0, 0, 3, 1, 4, 7]),\n",
       " 58: (15, 10, [0, 3, 1, 2, 5, 4]),\n",
       " 59: (19, 6, [0, 4, 0, 6, 5, 4]),\n",
       " 60: (18, 10, [0, 4, 4, 2, 4, 4]),\n",
       " 61: (15, 5, [0, 2, 5, 1, 3, 4]),\n",
       " 62: (16, 6, [0, 2, 3, 5, 2, 4]),\n",
       " 63: (17, 9, [0, 4, 5, 2, 5, 1]),\n",
       " 64: (17, 7, [0, 4, 4, 3, 4, 2]),\n",
       " 65: (17, 8, [0, 4, 4, 4, 3, 2]),\n",
       " 66: (15, 8, [0, 1, 5, 8, 1, 0]),\n",
       " 67: (10, 7, [0, 1, 3, 2, 2, 2]),\n",
       " 68: (11, 7, [0, 2, 3, 2, 2, 2]),\n",
       " 69: (14, 5, [0, 1, 3, 3, 5, 2]),\n",
       " 70: (20, 5, [0, 5, 5, 5, 0, 5]),\n",
       " 71: (10, 5, [0, 0, 0, 3, 2, 5]),\n",
       " 72: (20, 6, [0, 4, 4, 4, 5, 3]),\n",
       " 73: (11, 10, [0, 2, 2, 3, 1, 3]),\n",
       " 74: (11, 8, [0, 3, 2, 2, 4, 0]),\n",
       " 75: (20, 10, [0, 2, 2, 4, 6, 6]),\n",
       " 76: (13, 7, [0, 4, 1, 3, 2, 3]),\n",
       " 77: (12, 9, [0, 3, 2, 3, 0, 4]),\n",
       " 78: (11, 7, [0, 3, 1, 3, 1, 3]),\n",
       " 79: (13, 9, [0, 4, 2, 3, 1, 3]),\n",
       " 80: (16, 7, [0, 3, 4, 3, 6, 0]),\n",
       " 81: (16, 8, [0, 3, 4, 2, 5, 2]),\n",
       " 82: (10, 10, [0, 1, 1, 1, 5, 2]),\n",
       " 83: (19, 8, [0, 5, 3, 4, 6, 1]),\n",
       " 84: (17, 5, [0, 5, 1, 2, 5, 4]),\n",
       " 85: (19, 7, [0, 5, 3, 5, 3, 3]),\n",
       " 86: (19, 8, [0, 10, 2, 5, 0, 2]),\n",
       " 87: (11, 9, [0, 0, 1, 5, 2, 3]),\n",
       " 88: (12, 8, [0, 2, 1, 2, 1, 6]),\n",
       " 89: (12, 5, [0, 1, 2, 1, 4, 4]),\n",
       " 90: (15, 6, [0, 1, 5, 5, 2, 2]),\n",
       " 91: (20, 7, [0, 4, 2, 2, 5, 7]),\n",
       " 92: (19, 7, [0, 3, 4, 6, 2, 4]),\n",
       " 93: (12, 8, [0, 1, 0, 1, 5, 5]),\n",
       " 94: (12, 7, [0, 4, 1, 3, 3, 1]),\n",
       " 95: (14, 7, [0, 3, 1, 3, 4, 3]),\n",
       " 96: (10, 7, [0, 2, 1, 4, 1, 2]),\n",
       " 97: (15, 10, [0, 3, 3, 4, 1, 4]),\n",
       " 98: (10, 6, [0, 6, 0, 2, 2, 0]),\n",
       " 99: (19, 8, [0, 4, 2, 3, 6, 4])}"
      ]
     },
     "execution_count": 83,
     "metadata": {},
     "output_type": "execute_result"
    }
   ],
   "source": [
    "info = {}\n",
    "for i in range(100):\n",
    "    with open(f\"../tools/in/{i:04}.txt\") as f:\n",
    "        xx = f.readline\n",
    "        N = int(xx().rstrip())\n",
    "        pets = []\n",
    "        dcnt = 0\n",
    "        cnts = [0, 0, 0, 0, 0, 0]\n",
    "        for _ in range(N):\n",
    "            x, y, t = map(int, xx().rstrip().split())\n",
    "            dcnt += t==4\n",
    "            cnts[t] += 1\n",
    "        M = int(xx().rstrip())\n",
    "        for _ in range(M):\n",
    "            x, y = map(int, xx().rstrip().split())\n",
    "    info[i] = (N, M, cnts)\n",
    "\n",
    "info"
   ]
  },
  {
   "cell_type": "code",
   "execution_count": 84,
   "metadata": {},
   "outputs": [
    {
     "name": "stdout",
     "output_type": "stream",
     "text": [
      "28\n"
     ]
    },
    {
     "data": {
      "image/png": "[encoded data removed]",
      "text/plain": [
       "<Figure size 432x288 with 1 Axes>"
      ]
     },
     "metadata": {
      "needs_background": "light"
     },
     "output_type": "display_data"
    }
   ],
   "source": [
    "import matplotlib.pyplot as plt\n",
    "\n",
    "xs, ys, zs, ws = [], [], [], []\n",
    "oks, ngs = [], []\n",
    "data = []\n",
    "for i in range(100):\n",
    "    try:\n",
    "        score = scores[i]\n",
    "        n, m, cnts = info[i]\n",
    "        xs.append(n)\n",
    "        ys.append(score)\n",
    "        zs.append(m)\n",
    "        ws.append(cnts[4])\n",
    "        if score > 10000000:\n",
    "            oks.append((n, m, *cnts))\n",
    "        else:\n",
    "            ngs.append((n, m, *cnts))\n",
    "        data.append((score, n, m, *cnts))\n",
    "        \n",
    "\n",
    "    except KeyError:\n",
    "        print(i)\n",
    "\n",
    "plt.scatter(zs, ys, s=4, c=ys); plt.show()\n"
   ]
  },
  {
   "cell_type": "code",
   "execution_count": 85,
   "metadata": {},
   "outputs": [],
   "source": [
    "for i in range(len(data[0])):\n",
    "    xs = [d[i] for d in data]\n",
    "    ys = [d[0] for d in data]\n",
    "    # plt.scatter(xs, ys); plt.show()"
   ]
  },
  {
   "cell_type": "code",
   "execution_count": 86,
   "metadata": {},
   "outputs": [
    {
     "data": {
      "text/html": [
       "\n",
       "    <div class=\"bk-root\">\n",
       "        <a href=\"https://bokeh.org\" target=\"_blank\" class=\"bk-logo bk-logo-small bk-logo-notebook\"></a>\n",
       "        <span id=\"3945\">Loading BokehJS ...</span>\n",
       "    </div>"
      ]
     },
     "metadata": {},
     "output_type": "display_data"
    },
    {
     "data": {
      "application/javascript": "\n(function(root) {\n  function now() {\n    return new Date();\n  }\n\n  const force = true;\n\n  if (typeof root._bokeh_onload_callbacks === \"undefined\" || force === true) {\n    root._bokeh_onload_callbacks = [];\n    root._bokeh_is_loading = undefined;\n  }\n\n  const JS_MIME_TYPE = 'application/javascript';\n  const HTML_MIME_TYPE = 'text/html';\n  const EXEC_MIME_TYPE = 'application/vnd.bokehjs_exec.v0+json';\n  const CLASS_NAME = 'output_bokeh rendered_html';\n\n  /**\n   * Render data to the DOM node\n   */\n  function render(props, node) {\n    const script = document.createElement(\"script\");\n    node.appendChild(script);\n  }\n\n  /**\n   * Handle when an output is cleared or removed\n   */\n  function handleClearOutput(event, handle) {\n    const cell = handle.cell;\n\n    const id = cell.output_area._bokeh_element_id;\n    const server_id = cell.output_area._bokeh_server_id;\n    // Clean up Bokeh references\n    if (id != null && id in Bokeh.index) {\n      Bokeh.index[id].model.document.clear();\n      delete Bokeh.index[id];\n    }\n\n    if (server_id !== undefined) {\n      // Clean up Bokeh references\n      const cmd_clean = \"from bokeh.io.state import curstate; print(curstate().uuid_to_server['\" + server_id + \"'].get_sessions()[0].document.roots[0]._id)\";\n      cell.notebook.kernel.execute(cmd_clean, {\n        iopub: {\n          output: function(msg) {\n            const id = msg.content.text.trim();\n            if (id in Bokeh.index) {\n              Bokeh.index[id].model.document.clear();\n              delete Bokeh.index[id];\n            }\n          }\n        }\n      });\n      // Destroy server and session\n      const cmd_destroy = \"import bokeh.io.notebook as ion; ion.destroy_server('\" + server_id + \"')\";\n      cell.notebook.kernel.execute(cmd_destroy);\n    }\n  }\n\n  /**\n   * Handle when a new output is added\n   */\n  function handleAddOutput(event, handle) {\n    const output_area = handle.output_area;\n    const output = handle.output;\n\n    // limit handleAddOutput to display_data with EXEC_MIME_TYPE content only\n    if ((output.output_type != \"display_data\") || (!Object.prototype.hasOwnProperty.call(output.data, EXEC_MIME_TYPE))) {\n      return\n    }\n\n    const toinsert = output_area.element.find(\".\" + CLASS_NAME.split(' ')[0]);\n\n    if (output.metadata[EXEC_MIME_TYPE][\"id\"] !== undefined) {\n      toinsert[toinsert.length - 1].firstChild.textContent = output.data[JS_MIME_TYPE];\n      // store reference to embed id on output_area\n      output_area._bokeh_element_id = output.metadata[EXEC_MIME_TYPE][\"id\"];\n    }\n    if (output.metadata[EXEC_MIME_TYPE][\"server_id\"] !== undefined) {\n      const bk_div = document.createElement(\"div\");\n      bk_div.innerHTML = output.data[HTML_MIME_TYPE];\n      const script_attrs = bk_div.children[0].attributes;\n      for (let i = 0; i < script_attrs.length; i++) {\n        toinsert[toinsert.length - 1].firstChild.setAttribute(script_attrs[i].name, script_attrs[i].value);\n        toinsert[toinsert.length - 1].firstChild.textContent = bk_div.children[0].textContent\n      }\n      // store reference to server id on output_area\n      output_area._bokeh_server_id = output.metadata[EXEC_MIME_TYPE][\"server_id\"];\n    }\n  }\n\n  function register_renderer(events, OutputArea) {\n\n    function append_mime(data, metadata, element) {\n      // create a DOM node to render to\n      const toinsert = this.create_output_subarea(\n        metadata,\n        CLASS_NAME,\n        EXEC_MIME_TYPE\n      );\n      this.keyboard_manager.register_events(toinsert);\n      // Render to node\n      const props = {data: data, metadata: metadata[EXEC_MIME_TYPE]};\n      render(props, toinsert[toinsert.length - 1]);\n      element.append(toinsert);\n      return toinsert\n    }\n\n    /* Handle when an output is cleared or removed */\n    events.on('clear_output.CodeCell', handleClearOutput);\n    events.on('delete.Cell', handleClearOutput);\n\n    /* Handle when a new output is added */\n    events.on('output_added.OutputArea', handleAddOutput);\n\n    /**\n     * Register the mime type and append_mime function with output_area\n     */\n    OutputArea.prototype.register_mime_type(EXEC_MIME_TYPE, append_mime, {\n      /* Is output safe? */\n      safe: true,\n      /* Index of renderer in `output_area.display_order` */\n      index: 0\n    });\n  }\n\n  // register the mime type if in Jupyter Notebook environment and previously unregistered\n  if (root.Jupyter !== undefined) {\n    const events = require('base/js/events');\n    const OutputArea = require('notebook/js/outputarea').OutputArea;\n\n    if (OutputArea.prototype.mime_types().indexOf(EXEC_MIME_TYPE) == -1) {\n      register_renderer(events, OutputArea);\n    }\n  }\n\n  \n  if (typeof (root._bokeh_timeout) === \"undefined\" || force === true) {\n    root._bokeh_timeout = Date.now() + 5000;\n    root._bokeh_failed_load = false;\n  }\n\n  const NB_LOAD_WARNING = {'data': {'text/html':\n     \"<div style='background-color: #fdd'>\\n\"+\n     \"<p>\\n\"+\n     \"BokehJS does not appear to have successfully loaded. If loading BokehJS from CDN, this \\n\"+\n     \"may be due to a slow or bad network connection. Possible fixes:\\n\"+\n     \"</p>\\n\"+\n     \"<ul>\\n\"+\n     \"<li>re-rerun `output_notebook()` to attempt to load from CDN again, or</li>\\n\"+\n     \"<li>use INLINE resources instead, as so:</li>\\n\"+\n     \"</ul>\\n\"+\n     \"<code>\\n\"+\n     \"from bokeh.resources import INLINE\\n\"+\n     \"output_notebook(resources=INLINE)\\n\"+\n     \"</code>\\n\"+\n     \"</div>\"}};\n\n  function display_loaded() {\n    const el = document.getElementById(\"3945\");\n    if (el != null) {\n      el.textContent = \"BokehJS is loading...\";\n    }\n    if (root.Bokeh !== undefined) {\n      if (el != null) {\n        el.textContent = \"BokehJS \" + root.Bokeh.version + \" successfully loaded.\";\n      }\n    } else if (Date.now() < root._bokeh_timeout) {\n      setTimeout(display_loaded, 100)\n    }\n  }\n\n\n  function run_callbacks() {\n    try {\n      root._bokeh_onload_callbacks.forEach(function(callback) {\n        if (callback != null)\n          callback();\n      });\n    } finally {\n      delete root._bokeh_onload_callbacks\n    }\n    console.debug(\"Bokeh: all callbacks have finished\");\n  }\n\n  function load_libs(css_urls, js_urls, callback) {\n    if (css_urls == null) css_urls = [];\n    if (js_urls == null) js_urls = [];\n\n    root._bokeh_onload_callbacks.push(callback);\n    if (root._bokeh_is_loading > 0) {\n      console.debug(\"Bokeh: BokehJS is being loaded, scheduling callback at\", now());\n      return null;\n    }\n    if (js_urls == null || js_urls.length === 0) {\n      run_callbacks();\n      return null;\n    }\n    console.debug(\"Bokeh: BokehJS not loaded, scheduling load and callback at\", now());\n    root._bokeh_is_loading = css_urls.length + js_urls.length;\n\n    function on_load() {\n      root._bokeh_is_loading--;\n      if (root._bokeh_is_loading === 0) {\n        console.debug(\"Bokeh: all BokehJS libraries/stylesheets loaded\");\n        run_callbacks()\n      }\n    }\n\n    function on_error(url) {\n      console.error(\"failed to load \" + url);\n    }\n\n    for (let i = 0; i < css_urls.length; i++) {\n      const url = css_urls[i];\n      const element = document.createElement(\"link\");\n      element.onload = on_load;\n      element.onerror = on_error.bind(null, url);\n      element.rel = \"stylesheet\";\n      element.type = \"text/css\";\n      element.href = url;\n      console.debug(\"Bokeh: injecting link tag for BokehJS stylesheet: \", url);\n      document.body.appendChild(element);\n    }\n\n    for (let i = 0; i < js_urls.length; i++) {\n      const url = js_urls[i];\n      const element = document.createElement('script');\n      element.onload = on_load;\n      element.onerror = on_error.bind(null, url);\n      element.async = false;\n      element.src = url;\n      console.debug(\"Bokeh: injecting script tag for BokehJS library: \", url);\n      document.head.appendChild(element);\n    }\n  };\n\n  function inject_raw_css(css) {\n    const element = document.createElement(\"style\");\n    element.appendChild(document.createTextNode(css));\n    document.body.appendChild(element);\n  }\n\n  \n  const js_urls = [\"https://cdn.bokeh.org/bokeh/release/bokeh-2.4.2.min.js\", \"https://cdn.bokeh.org/bokeh/release/bokeh-gl-2.4.2.min.js\", \"https://cdn.bokeh.org/bokeh/release/bokeh-widgets-2.4.2.min.js\", \"https://cdn.bokeh.org/bokeh/release/bokeh-tables-2.4.2.min.js\", \"https://cdn.bokeh.org/bokeh/release/bokeh-mathjax-2.4.2.min.js\"];\n  const css_urls = [];\n  \n\n  const inline_js = [\n    function(Bokeh) {\n      Bokeh.set_log_level(\"info\");\n    },\n    function(Bokeh) {\n    \n    \n    }\n  ];\n\n  function run_inline_js() {\n    \n    if (root.Bokeh !== undefined || force === true) {\n      \n    for (let i = 0; i < inline_js.length; i++) {\n      inline_js[i].call(root, root.Bokeh);\n    }\n    if (force === true) {\n        display_loaded();\n      }} else if (Date.now() < root._bokeh_timeout) {\n      setTimeout(run_inline_js, 100);\n    } else if (!root._bokeh_failed_load) {\n      console.log(\"Bokeh: BokehJS failed to load within specified timeout.\");\n      root._bokeh_failed_load = true;\n    } else if (force !== true) {\n      const cell = $(document.getElementById(\"3945\")).parents('.cell').data().cell;\n      cell.output_area.append_execute_result(NB_LOAD_WARNING)\n    }\n\n  }\n\n  if (root._bokeh_is_loading === 0) {\n    console.debug(\"Bokeh: BokehJS loaded, going straight to plotting\");\n    run_inline_js();\n  } else {\n    load_libs(css_urls, js_urls, function() {\n      console.debug(\"Bokeh: BokehJS plotting callback run at\", now());\n      run_inline_js();\n    });\n  }\n}(window));",
      "application/vnd.bokehjs_load.v0+json": ""
     },
     "metadata": {},
     "output_type": "display_data"
    }
   ],
   "source": [
    "from bokeh.io import output_notebook, show\n",
    "from bokeh.plotting import figure\n",
    "output_notebook()"
   ]
  },
  {
   "cell_type": "code",
   "execution_count": 87,
   "metadata": {},
   "outputs": [],
   "source": [
    "data2 = []\n",
    "for ele in data:\n",
    "    if ele[2]!=5 and ele[4] <6:\n",
    "        data2.append(ele)"
   ]
  },
  {
   "cell_type": "code",
   "execution_count": 88,
   "metadata": {},
   "outputs": [
    {
     "data": {
      "text/html": [
       "\n",
       "\n",
       "\n",
       "\n",
       "\n",
       "\n",
       "  <div class=\"bk-root\" id=\"21cc0d71-d0ee-41fd-aa67-6846beee69a7\" data-root-id=\"4310\"></div>\n"
      ]
     },
     "metadata": {},
     "output_type": "display_data"
    },
    {
     "data": {
      "application/javascript": "(function(root) {\n  function embed_document(root) {\n    \n  const docs_json = {\"da008f18-62f9-4b52-99cd-1f86d2316967\":{\"defs\":[],\"roots\":{\"references\":[{\"attributes\":{\"children\":[{\"id\":\"4309\"},{\"id\":\"4307\"}]},\"id\":\"4310\",\"type\":\"Column\"},{\"attributes\":{\"below\":[{\"id\":\"4116\"}],\"center\":[{\"id\":\"4119\"},{\"id\":\"4123\"}],\"height\":300,\"left\":[{\"id\":\"4120\"}],\"renderers\":[{\"id\":\"4137\"}],\"title\":{\"id\":\"4268\"},\"toolbar\":{\"id\":\"4129\"},\"toolbar_location\":null,\"width\":300,\"x_range\":{\"id\":\"4108\"},\"x_scale\":{\"id\":\"4112\"},\"y_range\":{\"id\":\"4110\"},\"y_scale\":{\"id\":\"4114\"}},\"id\":\"4107\",\"subtype\":\"Figure\",\"type\":\"Plot\"},{\"attributes\":{},\"id\":\"4284\",\"type\":\"BasicTickFormatter\"},{\"attributes\":{},\"id\":\"4285\",\"type\":\"AllLabels\"},{\"attributes\":{},\"id\":\"4149\",\"type\":\"BasicTicker\"},{\"attributes\":{},\"id\":\"4222\",\"type\":\"BasicTickFormatter\"},{\"attributes\":{\"coordinates\":null,\"data_source\":{\"id\":\"3946\"},\"glyph\":{\"id\":\"4166\"},\"group\":null,\"hover_glyph\":null,\"muted_glyph\":{\"id\":\"4168\"},\"nonselection_glyph\":{\"id\":\"4167\"},\"view\":{\"id\":\"4170\"}},\"id\":\"4169\",\"type\":\"GlyphRenderer\"},{\"attributes\":{},\"id\":\"4287\",\"type\":\"BasicTickFormatter\"},{\"attributes\":{\"bottom_units\":\"screen\",\"coordinates\":null,\"fill_alpha\":0.5,\"fill_color\":\"lightgrey\",\"group\":null,\"left_units\":\"screen\",\"level\":\"overlay\",\"line_alpha\":1.0,\"line_color\":\"black\",\"line_dash\":[4,4],\"line_width\":2,\"right_units\":\"screen\",\"syncable\":false,\"top_units\":\"screen\"},\"id\":\"4159\",\"type\":\"BoxAnnotation\"},{\"attributes\":{},\"id\":\"4288\",\"type\":\"AllLabels\"},{\"attributes\":{\"below\":[{\"id\":\"4180\"}],\"center\":[{\"id\":\"4183\"},{\"id\":\"4187\"}],\"height\":300,\"left\":[{\"id\":\"4184\"}],\"renderers\":[{\"id\":\"4201\"}],\"title\":{\"id\":\"4294\"},\"toolbar\":{\"id\":\"4193\"},\"toolbar_location\":null,\"width\":300,\"x_range\":{\"id\":\"4172\"},\"x_scale\":{\"id\":\"4176\"},\"y_range\":{\"id\":\"4174\"},\"y_scale\":{\"id\":\"4178\"}},\"id\":\"4171\",\"subtype\":\"Figure\",\"type\":\"Plot\"},{\"attributes\":{},\"id\":\"4110\",\"type\":\"DataRange1d\"},{\"attributes\":{\"coordinates\":null,\"formatter\":{\"id\":\"4271\"},\"group\":null,\"major_label_policy\":{\"id\":\"4272\"},\"ticker\":{\"id\":\"4121\"}},\"id\":\"4120\",\"type\":\"LinearAxis\"},{\"attributes\":{},\"id\":\"4158\",\"type\":\"HelpTool\"},{\"attributes\":{},\"id\":\"4140\",\"type\":\"DataRange1d\"},{\"attributes\":{},\"id\":\"4172\",\"type\":\"DataRange1d\"},{\"attributes\":{\"coordinates\":null,\"data_source\":{\"id\":\"3946\"},\"glyph\":{\"id\":\"4102\"},\"group\":null,\"hover_glyph\":null,\"muted_glyph\":{\"id\":\"4104\"},\"nonselection_glyph\":{\"id\":\"4103\"},\"view\":{\"id\":\"4106\"}},\"id\":\"4105\",\"type\":\"GlyphRenderer\"},{\"attributes\":{\"coordinates\":null,\"formatter\":{\"id\":\"4274\"},\"group\":null,\"major_label_policy\":{\"id\":\"4275\"},\"ticker\":{\"id\":\"4117\"}},\"id\":\"4116\",\"type\":\"LinearAxis\"},{\"attributes\":{\"overlay\":{\"id\":\"4128\"}},\"id\":\"4125\",\"type\":\"LassoSelectTool\"},{\"attributes\":{\"overlay\":{\"id\":\"4127\"}},\"id\":\"4124\",\"type\":\"BoxSelectTool\"},{\"attributes\":{\"coordinates\":null,\"formatter\":{\"id\":\"4284\"},\"group\":null,\"major_label_policy\":{\"id\":\"4285\"},\"ticker\":{\"id\":\"4153\"}},\"id\":\"4152\",\"type\":\"LinearAxis\"},{\"attributes\":{},\"id\":\"4144\",\"type\":\"LinearScale\"},{\"attributes\":{},\"id\":\"3998\",\"type\":\"HelpTool\"},{\"attributes\":{\"coordinates\":null,\"fill_alpha\":0.5,\"fill_color\":\"lightgrey\",\"group\":null,\"level\":\"overlay\",\"line_alpha\":1.0,\"line_color\":\"black\",\"line_dash\":[4,4],\"line_width\":2,\"syncable\":false,\"xs_units\":\"screen\",\"ys_units\":\"screen\"},\"id\":\"3968\",\"type\":\"PolyAnnotation\"},{\"attributes\":{\"coordinates\":null,\"fill_alpha\":0.5,\"fill_color\":\"lightgrey\",\"group\":null,\"level\":\"overlay\",\"line_alpha\":1.0,\"line_color\":\"black\",\"line_dash\":[4,4],\"line_width\":2,\"syncable\":false,\"xs_units\":\"screen\",\"ys_units\":\"screen\"},\"id\":\"4032\",\"type\":\"PolyAnnotation\"},{\"attributes\":{\"fill_alpha\":{\"value\":0.1},\"fill_color\":{\"value\":\"#1f77b4\"},\"hatch_alpha\":{\"value\":0.1},\"line_alpha\":{\"value\":0.1},\"line_color\":{\"value\":\"#1f77b4\"},\"x\":{\"field\":\"0\"},\"y\":{\"field\":\"0\"}},\"id\":\"3975\",\"type\":\"Circle\"},{\"attributes\":{},\"id\":\"4121\",\"type\":\"BasicTicker\"},{\"attributes\":{},\"id\":\"4117\",\"type\":\"BasicTicker\"},{\"attributes\":{},\"id\":\"4126\",\"type\":\"HelpTool\"},{\"attributes\":{\"coordinates\":null,\"group\":null},\"id\":\"4242\",\"type\":\"Title\"},{\"attributes\":{},\"id\":\"4174\",\"type\":\"DataRange1d\"},{\"attributes\":{\"fill_alpha\":{\"value\":0.2},\"fill_color\":{\"value\":\"#1f77b4\"},\"hatch_alpha\":{\"value\":0.2},\"line_alpha\":{\"value\":0.2},\"line_color\":{\"value\":\"#1f77b4\"},\"x\":{\"field\":\"6\"},\"y\":{\"field\":\"0\"}},\"id\":\"4136\",\"type\":\"Circle\"},{\"attributes\":{\"coordinates\":null,\"data_source\":{\"id\":\"3946\"},\"glyph\":{\"id\":\"3974\"},\"group\":null,\"hover_glyph\":null,\"muted_glyph\":{\"id\":\"3976\"},\"nonselection_glyph\":{\"id\":\"3975\"},\"view\":{\"id\":\"3978\"}},\"id\":\"3977\",\"type\":\"GlyphRenderer\"},{\"attributes\":{\"coordinates\":null,\"data_source\":{\"id\":\"3946\"},\"glyph\":{\"id\":\"4134\"},\"group\":null,\"hover_glyph\":null,\"muted_glyph\":{\"id\":\"4136\"},\"nonselection_glyph\":{\"id\":\"4135\"},\"view\":{\"id\":\"4138\"}},\"id\":\"4137\",\"type\":\"GlyphRenderer\"},{\"attributes\":{\"tools\":[{\"id\":\"4092\"},{\"id\":\"4093\"},{\"id\":\"4094\"}]},\"id\":\"4097\",\"type\":\"Toolbar\"},{\"attributes\":{},\"id\":\"4219\",\"type\":\"BasicTickFormatter\"},{\"attributes\":{\"below\":[{\"id\":\"4148\"}],\"center\":[{\"id\":\"4151\"},{\"id\":\"4155\"}],\"height\":300,\"left\":[{\"id\":\"4152\"}],\"renderers\":[{\"id\":\"4169\"}],\"title\":{\"id\":\"4281\"},\"toolbar\":{\"id\":\"4161\"},\"toolbar_location\":null,\"width\":300,\"x_range\":{\"id\":\"4140\"},\"x_scale\":{\"id\":\"4144\"},\"y_range\":{\"id\":\"4142\"},\"y_scale\":{\"id\":\"4146\"}},\"id\":\"4139\",\"subtype\":\"Figure\",\"type\":\"Plot\"},{\"attributes\":{\"bottom_units\":\"screen\",\"coordinates\":null,\"fill_alpha\":0.5,\"fill_color\":\"lightgrey\",\"group\":null,\"left_units\":\"screen\",\"level\":\"overlay\",\"line_alpha\":1.0,\"line_color\":\"black\",\"line_dash\":[4,4],\"line_width\":2,\"right_units\":\"screen\",\"syncable\":false,\"top_units\":\"screen\"},\"id\":\"4031\",\"type\":\"BoxAnnotation\"},{\"attributes\":{\"fill_color\":{\"value\":\"#1f77b4\"},\"line_color\":{\"value\":\"#1f77b4\"},\"x\":{\"field\":\"2\"},\"y\":{\"field\":\"0\"}},\"id\":\"4038\",\"type\":\"Circle\"},{\"attributes\":{\"fill_color\":{\"value\":\"#1f77b4\"},\"line_color\":{\"value\":\"#1f77b4\"},\"x\":{\"field\":\"5\"},\"y\":{\"field\":\"0\"}},\"id\":\"4102\",\"type\":\"Circle\"},{\"attributes\":{},\"id\":\"4142\",\"type\":\"DataRange1d\"},{\"attributes\":{},\"id\":\"4153\",\"type\":\"BasicTicker\"},{\"attributes\":{},\"id\":\"4275\",\"type\":\"AllLabels\"},{\"attributes\":{\"overlay\":{\"id\":\"4159\"}},\"id\":\"4156\",\"type\":\"BoxSelectTool\"},{\"attributes\":{\"bottom_units\":\"screen\",\"coordinates\":null,\"fill_alpha\":0.5,\"fill_color\":\"lightgrey\",\"group\":null,\"left_units\":\"screen\",\"level\":\"overlay\",\"line_alpha\":1.0,\"line_color\":\"black\",\"line_dash\":[4,4],\"line_width\":2,\"right_units\":\"screen\",\"syncable\":false,\"top_units\":\"screen\"},\"id\":\"3999\",\"type\":\"BoxAnnotation\"},{\"attributes\":{},\"id\":\"4220\",\"type\":\"AllLabels\"},{\"attributes\":{\"overlay\":{\"id\":\"4160\"}},\"id\":\"4157\",\"type\":\"LassoSelectTool\"},{\"attributes\":{\"overlay\":{\"id\":\"4095\"}},\"id\":\"4092\",\"type\":\"BoxSelectTool\"},{\"attributes\":{\"source\":{\"id\":\"3946\"}},\"id\":\"4170\",\"type\":\"CDSView\"},{\"attributes\":{},\"id\":\"4057\",\"type\":\"BasicTicker\"},{\"attributes\":{},\"id\":\"4245\",\"type\":\"BasicTickFormatter\"},{\"attributes\":{\"below\":[{\"id\":\"3988\"}],\"center\":[{\"id\":\"3991\"},{\"id\":\"3995\"}],\"height\":300,\"left\":[{\"id\":\"3992\"}],\"renderers\":[{\"id\":\"4009\"}],\"title\":{\"id\":\"4216\"},\"toolbar\":{\"id\":\"4001\"},\"toolbar_location\":null,\"width\":300,\"x_range\":{\"id\":\"3980\"},\"x_scale\":{\"id\":\"3984\"},\"y_range\":{\"id\":\"3982\"},\"y_scale\":{\"id\":\"3986\"}},\"id\":\"3979\",\"subtype\":\"Figure\",\"type\":\"Plot\"},{\"attributes\":{\"axis\":{\"id\":\"4116\"},\"coordinates\":null,\"group\":null,\"ticker\":null},\"id\":\"4119\",\"type\":\"Grid\"},{\"attributes\":{\"coordinates\":null,\"group\":null},\"id\":\"4281\",\"type\":\"Title\"},{\"attributes\":{\"axis\":{\"id\":\"4152\"},\"coordinates\":null,\"dimension\":1,\"group\":null,\"ticker\":null},\"id\":\"4155\",\"type\":\"Grid\"},{\"attributes\":{\"fill_alpha\":{\"value\":0.2},\"fill_color\":{\"value\":\"#1f77b4\"},\"hatch_alpha\":{\"value\":0.2},\"line_alpha\":{\"value\":0.2},\"line_color\":{\"value\":\"#1f77b4\"},\"x\":{\"field\":\"0\"},\"y\":{\"field\":\"0\"}},\"id\":\"3976\",\"type\":\"Circle\"},{\"attributes\":{},\"id\":\"4246\",\"type\":\"AllLabels\"},{\"attributes\":{\"overlay\":{\"id\":\"4096\"}},\"id\":\"4093\",\"type\":\"LassoSelectTool\"},{\"attributes\":{\"tools\":[{\"id\":\"3964\"},{\"id\":\"3965\"},{\"id\":\"3966\"}]},\"id\":\"3969\",\"type\":\"Toolbar\"},{\"attributes\":{},\"id\":\"4248\",\"type\":\"BasicTickFormatter\"},{\"attributes\":{\"fill_alpha\":{\"value\":0.2},\"fill_color\":{\"value\":\"#1f77b4\"},\"hatch_alpha\":{\"value\":0.2},\"line_alpha\":{\"value\":0.2},\"line_color\":{\"value\":\"#1f77b4\"},\"x\":{\"field\":\"5\"},\"y\":{\"field\":\"0\"}},\"id\":\"4104\",\"type\":\"Circle\"},{\"attributes\":{\"bottom_units\":\"screen\",\"coordinates\":null,\"fill_alpha\":0.5,\"fill_color\":\"lightgrey\",\"group\":null,\"left_units\":\"screen\",\"level\":\"overlay\",\"line_alpha\":1.0,\"line_color\":\"black\",\"line_dash\":[4,4],\"line_width\":2,\"right_units\":\"screen\",\"syncable\":false,\"top_units\":\"screen\"},\"id\":\"4191\",\"type\":\"BoxAnnotation\"},{\"attributes\":{\"fill_color\":{\"value\":\"#1f77b4\"},\"line_color\":{\"value\":\"#1f77b4\"},\"x\":{\"field\":\"8\"},\"y\":{\"field\":\"0\"}},\"id\":\"4198\",\"type\":\"Circle\"},{\"attributes\":{\"overlay\":{\"id\":\"4000\"}},\"id\":\"3997\",\"type\":\"LassoSelectTool\"},{\"attributes\":{},\"id\":\"4114\",\"type\":\"LinearScale\"},{\"attributes\":{},\"id\":\"4249\",\"type\":\"AllLabels\"},{\"attributes\":{\"tools\":[{\"id\":\"4156\"},{\"id\":\"4157\"},{\"id\":\"4158\"}]},\"id\":\"4161\",\"type\":\"Toolbar\"},{\"attributes\":{},\"id\":\"3980\",\"type\":\"DataRange1d\"},{\"attributes\":{\"coordinates\":null,\"group\":null},\"id\":\"4294\",\"type\":\"Title\"},{\"attributes\":{\"source\":{\"id\":\"3946\"}},\"id\":\"4138\",\"type\":\"CDSView\"},{\"attributes\":{\"coordinates\":null,\"fill_alpha\":0.5,\"fill_color\":\"lightgrey\",\"group\":null,\"level\":\"overlay\",\"line_alpha\":1.0,\"line_color\":\"black\",\"line_dash\":[4,4],\"line_width\":2,\"syncable\":false,\"xs_units\":\"screen\",\"ys_units\":\"screen\"},\"id\":\"4096\",\"type\":\"PolyAnnotation\"},{\"attributes\":{\"tools\":[{\"id\":\"4028\"},{\"id\":\"4029\"},{\"id\":\"4030\"}]},\"id\":\"4033\",\"type\":\"Toolbar\"},{\"attributes\":{\"overlay\":{\"id\":\"3967\"}},\"id\":\"3964\",\"type\":\"BoxSelectTool\"},{\"attributes\":{\"axis\":{\"id\":\"4148\"},\"coordinates\":null,\"group\":null,\"ticker\":null},\"id\":\"4151\",\"type\":\"Grid\"},{\"attributes\":{\"coordinates\":null,\"formatter\":{\"id\":\"4287\"},\"group\":null,\"major_label_policy\":{\"id\":\"4288\"},\"ticker\":{\"id\":\"4149\"}},\"id\":\"4148\",\"type\":\"LinearAxis\"},{\"attributes\":{\"source\":{\"id\":\"3946\"}},\"id\":\"3978\",\"type\":\"CDSView\"},{\"attributes\":{},\"id\":\"3966\",\"type\":\"HelpTool\"},{\"attributes\":{\"fill_alpha\":{\"value\":0.1},\"fill_color\":{\"value\":\"#1f77b4\"},\"hatch_alpha\":{\"value\":0.1},\"line_alpha\":{\"value\":0.1},\"line_color\":{\"value\":\"#1f77b4\"},\"x\":{\"field\":\"5\"},\"y\":{\"field\":\"0\"}},\"id\":\"4103\",\"type\":\"Circle\"},{\"attributes\":{\"axis\":{\"id\":\"4120\"},\"coordinates\":null,\"dimension\":1,\"group\":null,\"ticker\":null},\"id\":\"4123\",\"type\":\"Grid\"},{\"attributes\":{},\"id\":\"4108\",\"type\":\"DataRange1d\"},{\"attributes\":{},\"id\":\"4112\",\"type\":\"LinearScale\"},{\"attributes\":{\"bottom_units\":\"screen\",\"coordinates\":null,\"fill_alpha\":0.5,\"fill_color\":\"lightgrey\",\"group\":null,\"left_units\":\"screen\",\"level\":\"overlay\",\"line_alpha\":1.0,\"line_color\":\"black\",\"line_dash\":[4,4],\"line_width\":2,\"right_units\":\"screen\",\"syncable\":false,\"top_units\":\"screen\"},\"id\":\"4095\",\"type\":\"BoxAnnotation\"},{\"attributes\":{\"fill_color\":{\"value\":\"#1f77b4\"},\"line_color\":{\"value\":\"#1f77b4\"},\"x\":{\"field\":\"7\"},\"y\":{\"field\":\"0\"}},\"id\":\"4166\",\"type\":\"Circle\"},{\"attributes\":{\"tools\":[{\"id\":\"3996\"},{\"id\":\"3997\"},{\"id\":\"3998\"}]},\"id\":\"4001\",\"type\":\"Toolbar\"},{\"attributes\":{\"overlay\":{\"id\":\"3968\"}},\"id\":\"3965\",\"type\":\"LassoSelectTool\"},{\"attributes\":{\"source\":{\"id\":\"3946\"}},\"id\":\"4106\",\"type\":\"CDSView\"},{\"attributes\":{\"bottom_units\":\"screen\",\"coordinates\":null,\"fill_alpha\":0.5,\"fill_color\":\"lightgrey\",\"group\":null,\"left_units\":\"screen\",\"level\":\"overlay\",\"line_alpha\":1.0,\"line_color\":\"black\",\"line_dash\":[4,4],\"line_width\":2,\"right_units\":\"screen\",\"syncable\":false,\"top_units\":\"screen\"},\"id\":\"3967\",\"type\":\"BoxAnnotation\"},{\"attributes\":{},\"id\":\"4146\",\"type\":\"LinearScale\"},{\"attributes\":{\"coordinates\":null,\"fill_alpha\":0.5,\"fill_color\":\"lightgrey\",\"group\":null,\"level\":\"overlay\",\"line_alpha\":1.0,\"line_color\":\"black\",\"line_dash\":[4,4],\"line_width\":2,\"syncable\":false,\"xs_units\":\"screen\",\"ys_units\":\"screen\"},\"id\":\"4192\",\"type\":\"PolyAnnotation\"},{\"attributes\":{\"overlay\":{\"id\":\"4192\"}},\"id\":\"4189\",\"type\":\"LassoSelectTool\"},{\"attributes\":{\"coordinates\":null,\"formatter\":{\"id\":\"4248\"},\"group\":null,\"major_label_policy\":{\"id\":\"4249\"},\"ticker\":{\"id\":\"4053\"}},\"id\":\"4052\",\"type\":\"LinearAxis\"},{\"attributes\":{},\"id\":\"3957\",\"type\":\"BasicTicker\"},{\"attributes\":{\"coordinates\":null,\"formatter\":{\"id\":\"4219\"},\"group\":null,\"major_label_policy\":{\"id\":\"4220\"},\"ticker\":{\"id\":\"3993\"}},\"id\":\"3992\",\"type\":\"LinearAxis\"},{\"attributes\":{},\"id\":\"4297\",\"type\":\"BasicTickFormatter\"},{\"attributes\":{\"tools\":[{\"id\":\"4060\"},{\"id\":\"4061\"},{\"id\":\"4062\"}]},\"id\":\"4065\",\"type\":\"Toolbar\"},{\"attributes\":{},\"id\":\"4085\",\"type\":\"BasicTicker\"},{\"attributes\":{\"fill_color\":{\"value\":\"#1f77b4\"},\"line_color\":{\"value\":\"#1f77b4\"},\"x\":{\"field\":\"0\"},\"y\":{\"field\":\"0\"}},\"id\":\"3974\",\"type\":\"Circle\"},{\"attributes\":{},\"id\":\"4298\",\"type\":\"AllLabels\"},{\"attributes\":{\"overlay\":{\"id\":\"3999\"}},\"id\":\"3996\",\"type\":\"BoxSelectTool\"},{\"attributes\":{\"coordinates\":null,\"formatter\":{\"id\":\"4232\"},\"group\":null,\"major_label_policy\":{\"id\":\"4233\"},\"ticker\":{\"id\":\"4025\"}},\"id\":\"4024\",\"type\":\"LinearAxis\"},{\"attributes\":{\"coordinates\":null,\"fill_alpha\":0.5,\"fill_color\":\"lightgrey\",\"group\":null,\"level\":\"overlay\",\"line_alpha\":1.0,\"line_color\":\"black\",\"line_dash\":[4,4],\"line_width\":2,\"syncable\":false,\"xs_units\":\"screen\",\"ys_units\":\"screen\"},\"id\":\"4160\",\"type\":\"PolyAnnotation\"},{\"attributes\":{\"fill_color\":{\"value\":\"#1f77b4\"},\"line_color\":{\"value\":\"#1f77b4\"},\"x\":{\"field\":\"4\"},\"y\":{\"field\":\"0\"}},\"id\":\"4070\",\"type\":\"Circle\"},{\"attributes\":{\"fill_color\":{\"value\":\"#1f77b4\"},\"line_color\":{\"value\":\"#1f77b4\"},\"x\":{\"field\":\"6\"},\"y\":{\"field\":\"0\"}},\"id\":\"4134\",\"type\":\"Circle\"},{\"attributes\":{},\"id\":\"4094\",\"type\":\"HelpTool\"},{\"attributes\":{},\"id\":\"4300\",\"type\":\"BasicTickFormatter\"},{\"attributes\":{\"coordinates\":null,\"formatter\":{\"id\":\"4206\"},\"group\":null,\"major_label_policy\":{\"id\":\"4207\"},\"ticker\":{\"id\":\"3961\"}},\"id\":\"3960\",\"type\":\"LinearAxis\"},{\"attributes\":{},\"id\":\"3986\",\"type\":\"LinearScale\"},{\"attributes\":{\"axis\":{\"id\":\"4180\"},\"coordinates\":null,\"group\":null,\"ticker\":null},\"id\":\"4183\",\"type\":\"Grid\"},{\"attributes\":{\"fill_alpha\":{\"value\":0.1},\"fill_color\":{\"value\":\"#1f77b4\"},\"hatch_alpha\":{\"value\":0.1},\"line_alpha\":{\"value\":0.1},\"line_color\":{\"value\":\"#1f77b4\"},\"x\":{\"field\":\"7\"},\"y\":{\"field\":\"0\"}},\"id\":\"4167\",\"type\":\"Circle\"},{\"attributes\":{\"fill_alpha\":{\"value\":0.2},\"fill_color\":{\"value\":\"#1f77b4\"},\"hatch_alpha\":{\"value\":0.2},\"line_alpha\":{\"value\":0.2},\"line_color\":{\"value\":\"#1f77b4\"},\"x\":{\"field\":\"2\"},\"y\":{\"field\":\"0\"}},\"id\":\"4040\",\"type\":\"Circle\"},{\"attributes\":{\"overlay\":{\"id\":\"4063\"}},\"id\":\"4060\",\"type\":\"BoxSelectTool\"},{\"attributes\":{},\"id\":\"3950\",\"type\":\"DataRange1d\"},{\"attributes\":{},\"id\":\"4082\",\"type\":\"LinearScale\"},{\"attributes\":{},\"id\":\"3954\",\"type\":\"LinearScale\"},{\"attributes\":{},\"id\":\"3982\",\"type\":\"DataRange1d\"},{\"attributes\":{},\"id\":\"4223\",\"type\":\"AllLabels\"},{\"attributes\":{},\"id\":\"4233\",\"type\":\"AllLabels\"},{\"attributes\":{},\"id\":\"4236\",\"type\":\"AllLabels\"},{\"attributes\":{},\"id\":\"4301\",\"type\":\"AllLabels\"},{\"attributes\":{\"source\":{\"id\":\"3946\"}},\"id\":\"4042\",\"type\":\"CDSView\"},{\"attributes\":{\"children\":[[{\"id\":\"3947\"},0,0],[{\"id\":\"3979\"},0,1],[{\"id\":\"4011\"},0,2],[{\"id\":\"4043\"},0,3],[{\"id\":\"4075\"},0,4],[{\"id\":\"4107\"},0,5],[{\"id\":\"4139\"},0,6],[{\"id\":\"4171\"},0,7]]},\"id\":\"4307\",\"type\":\"GridBox\"},{\"attributes\":{\"axis\":{\"id\":\"4184\"},\"coordinates\":null,\"dimension\":1,\"group\":null,\"ticker\":null},\"id\":\"4187\",\"type\":\"Grid\"},{\"attributes\":{},\"id\":\"3961\",\"type\":\"BasicTicker\"},{\"attributes\":{\"coordinates\":null,\"formatter\":{\"id\":\"4245\"},\"group\":null,\"major_label_policy\":{\"id\":\"4246\"},\"ticker\":{\"id\":\"4057\"}},\"id\":\"4056\",\"type\":\"LinearAxis\"},{\"attributes\":{},\"id\":\"4235\",\"type\":\"BasicTickFormatter\"},{\"attributes\":{\"fill_alpha\":{\"value\":0.1},\"fill_color\":{\"value\":\"#1f77b4\"},\"hatch_alpha\":{\"value\":0.1},\"line_alpha\":{\"value\":0.1},\"line_color\":{\"value\":\"#1f77b4\"},\"x\":{\"field\":\"6\"},\"y\":{\"field\":\"0\"}},\"id\":\"4135\",\"type\":\"Circle\"},{\"attributes\":{\"fill_alpha\":{\"value\":0.1},\"fill_color\":{\"value\":\"#1f77b4\"},\"hatch_alpha\":{\"value\":0.1},\"line_alpha\":{\"value\":0.1},\"line_color\":{\"value\":\"#1f77b4\"},\"x\":{\"field\":\"8\"},\"y\":{\"field\":\"0\"}},\"id\":\"4199\",\"type\":\"Circle\"},{\"attributes\":{\"toolbars\":[{\"id\":\"3969\"},{\"id\":\"4001\"},{\"id\":\"4033\"},{\"id\":\"4065\"},{\"id\":\"4097\"},{\"id\":\"4129\"},{\"id\":\"4161\"},{\"id\":\"4193\"}],\"tools\":[{\"id\":\"3964\"},{\"id\":\"3965\"},{\"id\":\"3966\"},{\"id\":\"3996\"},{\"id\":\"3997\"},{\"id\":\"3998\"},{\"id\":\"4028\"},{\"id\":\"4029\"},{\"id\":\"4030\"},{\"id\":\"4060\"},{\"id\":\"4061\"},{\"id\":\"4062\"},{\"id\":\"4092\"},{\"id\":\"4093\"},{\"id\":\"4094\"},{\"id\":\"4124\"},{\"id\":\"4125\"},{\"id\":\"4126\"},{\"id\":\"4156\"},{\"id\":\"4157\"},{\"id\":\"4158\"},{\"id\":\"4188\"},{\"id\":\"4189\"},{\"id\":\"4190\"}]},\"id\":\"4308\",\"type\":\"ProxyToolbar\"},{\"attributes\":{\"fill_alpha\":{\"value\":0.2},\"fill_color\":{\"value\":\"#1f77b4\"},\"hatch_alpha\":{\"value\":0.2},\"line_alpha\":{\"value\":0.2},\"line_color\":{\"value\":\"#1f77b4\"},\"x\":{\"field\":\"8\"},\"y\":{\"field\":\"0\"}},\"id\":\"4200\",\"type\":\"Circle\"},{\"attributes\":{\"toolbar\":{\"id\":\"4308\"},\"toolbar_location\":\"above\"},\"id\":\"4309\",\"type\":\"ToolbarBox\"},{\"attributes\":{},\"id\":\"4044\",\"type\":\"DataRange1d\"},{\"attributes\":{\"coordinates\":null,\"formatter\":{\"id\":\"4235\"},\"group\":null,\"major_label_policy\":{\"id\":\"4236\"},\"ticker\":{\"id\":\"4021\"}},\"id\":\"4020\",\"type\":\"LinearAxis\"},{\"attributes\":{\"axis\":{\"id\":\"4024\"},\"coordinates\":null,\"dimension\":1,\"group\":null,\"ticker\":null},\"id\":\"4027\",\"type\":\"Grid\"},{\"attributes\":{\"coordinates\":null,\"formatter\":{\"id\":\"4297\"},\"group\":null,\"major_label_policy\":{\"id\":\"4298\"},\"ticker\":{\"id\":\"4185\"}},\"id\":\"4184\",\"type\":\"LinearAxis\"},{\"attributes\":{\"fill_color\":{\"value\":\"#1f77b4\"},\"line_color\":{\"value\":\"#1f77b4\"},\"x\":{\"field\":\"1\"},\"y\":{\"field\":\"0\"}},\"id\":\"4006\",\"type\":\"Circle\"},{\"attributes\":{},\"id\":\"3948\",\"type\":\"DataRange1d\"},{\"attributes\":{\"coordinates\":null,\"fill_alpha\":0.5,\"fill_color\":\"lightgrey\",\"group\":null,\"level\":\"overlay\",\"line_alpha\":1.0,\"line_color\":\"black\",\"line_dash\":[4,4],\"line_width\":2,\"syncable\":false,\"xs_units\":\"screen\",\"ys_units\":\"screen\"},\"id\":\"4128\",\"type\":\"PolyAnnotation\"},{\"attributes\":{},\"id\":\"4014\",\"type\":\"DataRange1d\"},{\"attributes\":{\"fill_alpha\":{\"value\":0.1},\"fill_color\":{\"value\":\"#1f77b4\"},\"hatch_alpha\":{\"value\":0.1},\"line_alpha\":{\"value\":0.1},\"line_color\":{\"value\":\"#1f77b4\"},\"x\":{\"field\":\"4\"},\"y\":{\"field\":\"0\"}},\"id\":\"4071\",\"type\":\"Circle\"},{\"attributes\":{\"axis\":{\"id\":\"4020\"},\"coordinates\":null,\"group\":null,\"ticker\":null},\"id\":\"4023\",\"type\":\"Grid\"},{\"attributes\":{},\"id\":\"4185\",\"type\":\"BasicTicker\"},{\"attributes\":{\"axis\":{\"id\":\"3956\"},\"coordinates\":null,\"group\":null,\"ticker\":null},\"id\":\"3959\",\"type\":\"Grid\"},{\"attributes\":{},\"id\":\"4207\",\"type\":\"AllLabels\"},{\"attributes\":{\"fill_alpha\":{\"value\":0.1},\"fill_color\":{\"value\":\"#1f77b4\"},\"hatch_alpha\":{\"value\":0.1},\"line_alpha\":{\"value\":0.1},\"line_color\":{\"value\":\"#1f77b4\"},\"x\":{\"field\":\"2\"},\"y\":{\"field\":\"0\"}},\"id\":\"4039\",\"type\":\"Circle\"},{\"attributes\":{},\"id\":\"4062\",\"type\":\"HelpTool\"},{\"attributes\":{\"coordinates\":null,\"formatter\":{\"id\":\"4261\"},\"group\":null,\"major_label_policy\":{\"id\":\"4262\"},\"ticker\":{\"id\":\"4085\"}},\"id\":\"4084\",\"type\":\"LinearAxis\"},{\"attributes\":{},\"id\":\"3993\",\"type\":\"BasicTicker\"},{\"attributes\":{\"below\":[{\"id\":\"4052\"}],\"center\":[{\"id\":\"4055\"},{\"id\":\"4059\"}],\"height\":300,\"left\":[{\"id\":\"4056\"}],\"renderers\":[{\"id\":\"4073\"}],\"title\":{\"id\":\"4242\"},\"toolbar\":{\"id\":\"4065\"},\"toolbar_location\":null,\"width\":300,\"x_range\":{\"id\":\"4044\"},\"x_scale\":{\"id\":\"4048\"},\"y_range\":{\"id\":\"4046\"},\"y_scale\":{\"id\":\"4050\"}},\"id\":\"4043\",\"subtype\":\"Figure\",\"type\":\"Plot\"},{\"attributes\":{\"fill_alpha\":{\"value\":0.2},\"fill_color\":{\"value\":\"#1f77b4\"},\"hatch_alpha\":{\"value\":0.2},\"line_alpha\":{\"value\":0.2},\"line_color\":{\"value\":\"#1f77b4\"},\"x\":{\"field\":\"4\"},\"y\":{\"field\":\"0\"}},\"id\":\"4072\",\"type\":\"Circle\"},{\"attributes\":{\"coordinates\":null,\"group\":null},\"id\":\"4255\",\"type\":\"Title\"},{\"attributes\":{},\"id\":\"4178\",\"type\":\"LinearScale\"},{\"attributes\":{},\"id\":\"4232\",\"type\":\"BasicTickFormatter\"},{\"attributes\":{\"below\":[{\"id\":\"4084\"}],\"center\":[{\"id\":\"4087\"},{\"id\":\"4091\"}],\"height\":300,\"left\":[{\"id\":\"4088\"}],\"renderers\":[{\"id\":\"4105\"}],\"title\":{\"id\":\"4255\"},\"toolbar\":{\"id\":\"4097\"},\"toolbar_location\":null,\"width\":300,\"x_range\":{\"id\":\"4076\"},\"x_scale\":{\"id\":\"4080\"},\"y_range\":{\"id\":\"4078\"},\"y_scale\":{\"id\":\"4082\"}},\"id\":\"4075\",\"subtype\":\"Figure\",\"type\":\"Plot\"},{\"attributes\":{\"fill_alpha\":{\"value\":0.2},\"fill_color\":{\"value\":\"#1f77b4\"},\"hatch_alpha\":{\"value\":0.2},\"line_alpha\":{\"value\":0.2},\"line_color\":{\"value\":\"#1f77b4\"},\"x\":{\"field\":\"7\"},\"y\":{\"field\":\"0\"}},\"id\":\"4168\",\"type\":\"Circle\"},{\"attributes\":{},\"id\":\"4048\",\"type\":\"LinearScale\"},{\"attributes\":{\"coordinates\":null,\"group\":null},\"id\":\"4203\",\"type\":\"Title\"},{\"attributes\":{},\"id\":\"4030\",\"type\":\"HelpTool\"},{\"attributes\":{\"coordinates\":null,\"fill_alpha\":0.5,\"fill_color\":\"lightgrey\",\"group\":null,\"level\":\"overlay\",\"line_alpha\":1.0,\"line_color\":\"black\",\"line_dash\":[4,4],\"line_width\":2,\"syncable\":false,\"xs_units\":\"screen\",\"ys_units\":\"screen\"},\"id\":\"4064\",\"type\":\"PolyAnnotation\"},{\"attributes\":{},\"id\":\"4012\",\"type\":\"DataRange1d\"},{\"attributes\":{\"below\":[{\"id\":\"3956\"}],\"center\":[{\"id\":\"3959\"},{\"id\":\"3963\"}],\"height\":300,\"left\":[{\"id\":\"3960\"}],\"renderers\":[{\"id\":\"3977\"}],\"title\":{\"id\":\"4203\"},\"toolbar\":{\"id\":\"3969\"},\"toolbar_location\":null,\"width\":300,\"x_range\":{\"id\":\"3948\"},\"x_scale\":{\"id\":\"3952\"},\"y_range\":{\"id\":\"3950\"},\"y_scale\":{\"id\":\"3954\"}},\"id\":\"3947\",\"subtype\":\"Figure\",\"type\":\"Plot\"},{\"attributes\":{\"axis\":{\"id\":\"4088\"},\"coordinates\":null,\"dimension\":1,\"group\":null,\"ticker\":null},\"id\":\"4091\",\"type\":\"Grid\"},{\"attributes\":{\"bottom_units\":\"screen\",\"coordinates\":null,\"fill_alpha\":0.5,\"fill_color\":\"lightgrey\",\"group\":null,\"left_units\":\"screen\",\"level\":\"overlay\",\"line_alpha\":1.0,\"line_color\":\"black\",\"line_dash\":[4,4],\"line_width\":2,\"right_units\":\"screen\",\"syncable\":false,\"top_units\":\"screen\"},\"id\":\"4063\",\"type\":\"BoxAnnotation\"},{\"attributes\":{\"overlay\":{\"id\":\"4064\"}},\"id\":\"4061\",\"type\":\"LassoSelectTool\"},{\"attributes\":{},\"id\":\"3984\",\"type\":\"LinearScale\"},{\"attributes\":{\"coordinates\":null,\"group\":null},\"id\":\"4216\",\"type\":\"Title\"},{\"attributes\":{\"overlay\":{\"id\":\"4191\"}},\"id\":\"4188\",\"type\":\"BoxSelectTool\"},{\"attributes\":{},\"id\":\"4078\",\"type\":\"DataRange1d\"},{\"attributes\":{\"coordinates\":null,\"group\":null},\"id\":\"4268\",\"type\":\"Title\"},{\"attributes\":{},\"id\":\"4206\",\"type\":\"BasicTickFormatter\"},{\"attributes\":{},\"id\":\"4021\",\"type\":\"BasicTicker\"},{\"attributes\":{\"coordinates\":null,\"formatter\":{\"id\":\"4258\"},\"group\":null,\"major_label_policy\":{\"id\":\"4259\"},\"ticker\":{\"id\":\"4089\"}},\"id\":\"4088\",\"type\":\"LinearAxis\"},{\"attributes\":{\"axis\":{\"id\":\"3960\"},\"coordinates\":null,\"dimension\":1,\"group\":null,\"ticker\":null},\"id\":\"3963\",\"type\":\"Grid\"},{\"attributes\":{\"coordinates\":null,\"formatter\":{\"id\":\"4222\"},\"group\":null,\"major_label_policy\":{\"id\":\"4223\"},\"ticker\":{\"id\":\"3989\"}},\"id\":\"3988\",\"type\":\"LinearAxis\"},{\"attributes\":{\"below\":[{\"id\":\"4020\"}],\"center\":[{\"id\":\"4023\"},{\"id\":\"4027\"}],\"height\":300,\"left\":[{\"id\":\"4024\"}],\"renderers\":[{\"id\":\"4041\"}],\"title\":{\"id\":\"4229\"},\"toolbar\":{\"id\":\"4033\"},\"toolbar_location\":null,\"width\":300,\"x_range\":{\"id\":\"4012\"},\"x_scale\":{\"id\":\"4016\"},\"y_range\":{\"id\":\"4014\"},\"y_scale\":{\"id\":\"4018\"}},\"id\":\"4011\",\"subtype\":\"Figure\",\"type\":\"Plot\"},{\"attributes\":{\"tools\":[{\"id\":\"4188\"},{\"id\":\"4189\"},{\"id\":\"4190\"}]},\"id\":\"4193\",\"type\":\"Toolbar\"},{\"attributes\":{},\"id\":\"4176\",\"type\":\"LinearScale\"},{\"attributes\":{},\"id\":\"4080\",\"type\":\"LinearScale\"},{\"attributes\":{},\"id\":\"4209\",\"type\":\"BasicTickFormatter\"},{\"attributes\":{},\"id\":\"4089\",\"type\":\"BasicTicker\"},{\"attributes\":{\"overlay\":{\"id\":\"4031\"}},\"id\":\"4028\",\"type\":\"BoxSelectTool\"},{\"attributes\":{},\"id\":\"4076\",\"type\":\"DataRange1d\"},{\"attributes\":{\"source\":{\"id\":\"3946\"}},\"id\":\"4202\",\"type\":\"CDSView\"},{\"attributes\":{},\"id\":\"4018\",\"type\":\"LinearScale\"},{\"attributes\":{},\"id\":\"4190\",\"type\":\"HelpTool\"},{\"attributes\":{\"axis\":{\"id\":\"4084\"},\"coordinates\":null,\"group\":null,\"ticker\":null},\"id\":\"4087\",\"type\":\"Grid\"},{\"attributes\":{},\"id\":\"4210\",\"type\":\"AllLabels\"},{\"attributes\":{\"coordinates\":null,\"formatter\":{\"id\":\"4209\"},\"group\":null,\"major_label_policy\":{\"id\":\"4210\"},\"ticker\":{\"id\":\"3957\"}},\"id\":\"3956\",\"type\":\"LinearAxis\"},{\"attributes\":{\"source\":{\"id\":\"3946\"}},\"id\":\"4010\",\"type\":\"CDSView\"},{\"attributes\":{\"data\":{\"0\":[58000000,49111111,21277778,49222222,55333333,23055556,26666667,23166667,23333333,22888889,53222222,48888889,23777778,54888889,23111111,10166667,28500000,28666667,21777778,12666667,3479167,55888889,26666667,3270833,25111111,50444444,25277778,29000000,2930556,24555556,58222222,48111111,56777778,2812500,48222222,13527778,13805556,50111111,40111111,25166667,59444444,12555556,13472222,25111111,2909722,24055556,51444444,24444444,55000000,21277778,20055556,7041667,13805556,53000000,29722222,44777778,46111111,25666667,50000000,43111111,6583333,23722222,23555556,25555556,25944444,49666667,53444444,27666667,25111111,39555556,54555556,12305556,26111111,29166667,23277778,50222222,47111111,26555556,25666667,27222222,26055556,29000000,25055556,6333333,22944444,5694444,51444444,45000000,27055556,24555556,43666667,11527778,52555556,25222222,13166667,27055556,22333333,14333333,12111111],\"1\":[10,20,19,13,10,17,15,16,15,17,11,18,18,16,20,20,10,13,16,14,12,11,15,17,16,14,15,12,17,18,10,13,10,20,11,12,12,14,20,16,13,13,14,13,19,19,13,20,11,18,19,12,12,13,13,16,15,15,19,18,15,16,17,17,17,15,10,11,14,20,10,20,11,11,20,13,12,11,13,16,16,10,19,17,19,19,11,12,12,15,20,19,12,12,14,10,15,10,19],\"2\":[5,6,7,5,7,10,6,8,10,5,10,9,8,10,10,10,10,5,9,8,6,5,7,5,6,10,10,6,5,7,9,5,9,5,7,8,8,8,10,7,10,7,5,5,7,9,6,8,8,5,5,8,6,8,6,5,6,10,6,10,5,6,9,7,8,8,7,7,5,5,5,6,10,8,10,7,9,7,9,7,8,10,8,5,7,8,9,8,5,6,7,7,8,7,7,7,10,6,8],\"3\":[0,0,0,0,0,0,0,0,0,0,0,0,0,0,0,0,0,0,0,0,0,0,0,0,0,0,0,0,0,0,0,0,0,0,0,0,0,0,0,0,0,0,0,0,0,0,0,0,0,0,0,0,0,0,0,0,0,0,0,0,0,0,0,0,0,0,0,0,0,0,0,0,0,0,0,0,0,0,0,0,0,0,0,0,0,0,0,0,0,0,0,0,0,0,0,0,0,0,0],\"4\":[3,3,2,4,1,3,2,3,3,1,2,2,3,3,4,6,2,2,1,5,5,4,9,5,2,4,1,3,4,2,1,0,2,3,1,3,2,0,3,4,2,4,4,1,5,3,5,6,3,1,2,4,6,5,3,4,0,3,4,4,2,2,4,4,4,1,1,2,1,5,0,4,2,3,2,4,3,3,4,3,3,1,5,5,5,10,0,2,1,1,4,3,1,4,3,2,3,6,4],\"5\":[7,5,3,2,2,6,1,5,4,4,2,2,4,1,4,3,1,1,2,4,2,3,0,5,4,1,2,1,4,5,2,3,3,4,3,4,3,3,6,5,4,5,2,4,0,5,2,5,0,6,2,1,1,2,2,0,3,1,0,4,5,3,5,4,4,5,3,3,3,5,0,4,2,2,2,1,2,1,2,4,4,1,3,1,3,2,1,1,2,5,2,4,0,1,1,1,3,0,2],\"6\":[0,4,5,1,2,1,1,4,4,5,2,4,2,4,3,6,1,2,3,2,2,1,1,1,3,4,4,2,1,4,2,4,1,4,3,2,5,3,6,2,0,2,1,2,2,6,3,2,1,6,6,2,0,0,3,5,1,2,6,2,1,5,2,3,4,8,2,2,3,5,3,4,3,2,4,3,3,3,3,3,2,1,4,2,5,5,5,2,1,5,2,6,1,3,3,4,4,2,3],\"7\":[0,4,3,3,3,2,5,2,1,5,2,5,6,4,4,1,3,4,2,1,0,2,3,3,4,2,5,5,1,5,2,3,2,4,0,0,2,4,2,2,6,1,4,3,4,3,0,5,4,1,2,3,2,3,5,3,4,5,5,4,3,2,5,4,3,1,2,2,5,0,2,5,1,4,6,2,0,1,1,6,5,5,6,5,3,0,2,1,4,2,5,2,5,3,4,1,1,2,6],\"8\":[0,4,6,3,2,5,6,2,3,2,3,5,3,4,5,4,3,4,8,2,3,1,2,3,3,3,3,1,7,2,3,3,2,5,4,3,0,4,3,3,1,1,3,3,8,2,3,2,3,4,7,2,3,3,0,4,7,4,4,4,4,4,1,2,2,0,2,2,2,5,5,3,3,0,6,3,4,3,3,0,2,2,1,4,3,2,3,6,4,2,7,4,5,1,3,2,4,0,4]},\"selected\":{\"id\":\"4212\"},\"selection_policy\":{\"id\":\"4211\"}},\"id\":\"3946\",\"type\":\"ColumnDataSource\"},{\"attributes\":{},\"id\":\"4212\",\"type\":\"Selection\"},{\"attributes\":{\"coordinates\":null,\"data_source\":{\"id\":\"3946\"},\"glyph\":{\"id\":\"4070\"},\"group\":null,\"hover_glyph\":null,\"muted_glyph\":{\"id\":\"4072\"},\"nonselection_glyph\":{\"id\":\"4071\"},\"view\":{\"id\":\"4074\"}},\"id\":\"4073\",\"type\":\"GlyphRenderer\"},{\"attributes\":{},\"id\":\"3989\",\"type\":\"BasicTicker\"},{\"attributes\":{},\"id\":\"4211\",\"type\":\"UnionRenderers\"},{\"attributes\":{\"axis\":{\"id\":\"3992\"},\"coordinates\":null,\"dimension\":1,\"group\":null,\"ticker\":null},\"id\":\"3995\",\"type\":\"Grid\"},{\"attributes\":{\"fill_alpha\":{\"value\":0.1},\"fill_color\":{\"value\":\"#1f77b4\"},\"hatch_alpha\":{\"value\":0.1},\"line_alpha\":{\"value\":0.1},\"line_color\":{\"value\":\"#1f77b4\"},\"x\":{\"field\":\"1\"},\"y\":{\"field\":\"0\"}},\"id\":\"4007\",\"type\":\"Circle\"},{\"attributes\":{},\"id\":\"4258\",\"type\":\"BasicTickFormatter\"},{\"attributes\":{\"bottom_units\":\"screen\",\"coordinates\":null,\"fill_alpha\":0.5,\"fill_color\":\"lightgrey\",\"group\":null,\"left_units\":\"screen\",\"level\":\"overlay\",\"line_alpha\":1.0,\"line_color\":\"black\",\"line_dash\":[4,4],\"line_width\":2,\"right_units\":\"screen\",\"syncable\":false,\"top_units\":\"screen\"},\"id\":\"4127\",\"type\":\"BoxAnnotation\"},{\"attributes\":{},\"id\":\"3952\",\"type\":\"LinearScale\"},{\"attributes\":{\"coordinates\":null,\"data_source\":{\"id\":\"3946\"},\"glyph\":{\"id\":\"4006\"},\"group\":null,\"hover_glyph\":null,\"muted_glyph\":{\"id\":\"4008\"},\"nonselection_glyph\":{\"id\":\"4007\"},\"view\":{\"id\":\"4010\"}},\"id\":\"4009\",\"type\":\"GlyphRenderer\"},{\"attributes\":{},\"id\":\"4259\",\"type\":\"AllLabels\"},{\"attributes\":{\"coordinates\":null,\"group\":null},\"id\":\"4229\",\"type\":\"Title\"},{\"attributes\":{\"source\":{\"id\":\"3946\"}},\"id\":\"4074\",\"type\":\"CDSView\"},{\"attributes\":{\"coordinates\":null,\"data_source\":{\"id\":\"3946\"},\"glyph\":{\"id\":\"4038\"},\"group\":null,\"hover_glyph\":null,\"muted_glyph\":{\"id\":\"4040\"},\"nonselection_glyph\":{\"id\":\"4039\"},\"view\":{\"id\":\"4042\"}},\"id\":\"4041\",\"type\":\"GlyphRenderer\"},{\"attributes\":{},\"id\":\"4261\",\"type\":\"BasicTickFormatter\"},{\"attributes\":{},\"id\":\"4181\",\"type\":\"BasicTicker\"},{\"attributes\":{\"tools\":[{\"id\":\"4124\"},{\"id\":\"4125\"},{\"id\":\"4126\"}]},\"id\":\"4129\",\"type\":\"Toolbar\"},{\"attributes\":{},\"id\":\"4262\",\"type\":\"AllLabels\"},{\"attributes\":{},\"id\":\"4271\",\"type\":\"BasicTickFormatter\"},{\"attributes\":{\"coordinates\":null,\"fill_alpha\":0.5,\"fill_color\":\"lightgrey\",\"group\":null,\"level\":\"overlay\",\"line_alpha\":1.0,\"line_color\":\"black\",\"line_dash\":[4,4],\"line_width\":2,\"syncable\":false,\"xs_units\":\"screen\",\"ys_units\":\"screen\"},\"id\":\"4000\",\"type\":\"PolyAnnotation\"},{\"attributes\":{\"coordinates\":null,\"formatter\":{\"id\":\"4300\"},\"group\":null,\"major_label_policy\":{\"id\":\"4301\"},\"ticker\":{\"id\":\"4181\"}},\"id\":\"4180\",\"type\":\"LinearAxis\"},{\"attributes\":{\"fill_alpha\":{\"value\":0.2},\"fill_color\":{\"value\":\"#1f77b4\"},\"hatch_alpha\":{\"value\":0.2},\"line_alpha\":{\"value\":0.2},\"line_color\":{\"value\":\"#1f77b4\"},\"x\":{\"field\":\"1\"},\"y\":{\"field\":\"0\"}},\"id\":\"4008\",\"type\":\"Circle\"},{\"attributes\":{},\"id\":\"4053\",\"type\":\"BasicTicker\"},{\"attributes\":{},\"id\":\"4272\",\"type\":\"AllLabels\"},{\"attributes\":{\"axis\":{\"id\":\"3988\"},\"coordinates\":null,\"group\":null,\"ticker\":null},\"id\":\"3991\",\"type\":\"Grid\"},{\"attributes\":{\"axis\":{\"id\":\"4052\"},\"coordinates\":null,\"group\":null,\"ticker\":null},\"id\":\"4055\",\"type\":\"Grid\"},{\"attributes\":{\"coordinates\":null,\"data_source\":{\"id\":\"3946\"},\"glyph\":{\"id\":\"4198\"},\"group\":null,\"hover_glyph\":null,\"muted_glyph\":{\"id\":\"4200\"},\"nonselection_glyph\":{\"id\":\"4199\"},\"view\":{\"id\":\"4202\"}},\"id\":\"4201\",\"type\":\"GlyphRenderer\"},{\"attributes\":{\"axis\":{\"id\":\"4056\"},\"coordinates\":null,\"dimension\":1,\"group\":null,\"ticker\":null},\"id\":\"4059\",\"type\":\"Grid\"},{\"attributes\":{},\"id\":\"4025\",\"type\":\"BasicTicker\"},{\"attributes\":{},\"id\":\"4274\",\"type\":\"BasicTickFormatter\"},{\"attributes\":{},\"id\":\"4016\",\"type\":\"LinearScale\"},{\"attributes\":{},\"id\":\"4046\",\"type\":\"DataRange1d\"},{\"attributes\":{},\"id\":\"4050\",\"type\":\"LinearScale\"},{\"attributes\":{\"overlay\":{\"id\":\"4032\"}},\"id\":\"4029\",\"type\":\"LassoSelectTool\"}],\"root_ids\":[\"4310\"]},\"title\":\"Bokeh Application\",\"version\":\"2.4.2\"}};\n  const render_items = [{\"docid\":\"da008f18-62f9-4b52-99cd-1f86d2316967\",\"root_ids\":[\"4310\"],\"roots\":{\"4310\":\"21cc0d71-d0ee-41fd-aa67-6846beee69a7\"}}];\n  root.Bokeh.embed.embed_items_notebook(docs_json, render_items);\n\n  }\n  if (root.Bokeh !== undefined) {\n    embed_document(root);\n  } else {\n    let attempts = 0;\n    const timer = setInterval(function(root) {\n      if (root.Bokeh !== undefined) {\n        clearInterval(timer);\n        embed_document(root);\n      } else {\n        attempts++;\n        if (attempts > 100) {\n          clearInterval(timer);\n          console.log(\"Bokeh: ERROR: Unable to run BokehJS code because BokehJS library is missing\");\n        }\n      }\n    }, 10, root)\n  }\n})(window);",
      "application/vnd.bokehjs_exec.v0+json": ""
     },
     "metadata": {
      "application/vnd.bokehjs_exec.v0+json": {
       "id": "4310"
      }
     },
     "output_type": "display_data"
    }
   ],
   "source": [
    "from bokeh.models import ColumnDataSource\n",
    "from bokeh.layouts import gridplot\n",
    "ds = {}\n",
    "for i in range(len(data[0])):\n",
    "    ds[str(i)] = [d[i] for d in data]\n",
    "\n",
    "# create a column data source for the plots to share\n",
    "source = ColumnDataSource(data=ds)\n",
    "\n",
    "TOOLS = \"box_select,lasso_select,help\"\n",
    "\n",
    "eles = []\n",
    "for i in range(len(data[0])):\n",
    "    if i==3:\n",
    "        continue\n",
    "    # create a new plot and add a renderer\n",
    "    ele = figure(tools=TOOLS, width=300, height=300)\n",
    "    ele.circle(f'{i}', '0', source=source)\n",
    "    eles.append(ele)\n",
    "\n",
    "\n",
    "p = gridplot([eles])\n",
    "\n",
    "show(p)"
   ]
  },
  {
   "cell_type": "code",
   "execution_count": null,
   "metadata": {},
   "outputs": [],
   "source": [
    "score, n, m, c1, c2, c3, c4\n",
    "m==5, cnt1>=6"
   ]
  },
  {
   "cell_type": "code",
   "execution_count": 81,
   "metadata": {},
   "outputs": [
    {
     "data": {
      "text/plain": [
       "(73, 26)"
      ]
     },
     "execution_count": 81,
     "metadata": {},
     "output_type": "execute_result"
    }
   ],
   "source": [
    "cnt1 = 0\n",
    "cnt2 = 0\n",
    "for ele in data:\n",
    "    if ele[2]!=5 and ele[4] <6:\n",
    "        cnt1 += score<1000000\n",
    "    else:\n",
    "        cnt2+= score<1000000\n",
    "cnt1, cnt2"
   ]
  },
  {
   "cell_type": "code",
   "execution_count": 69,
   "metadata": {},
   "outputs": [],
   "source": [
    "import numpy as np\n",
    "import pandas as pd\n",
    "import scipy as sp"
   ]
  },
  {
   "cell_type": "code",
   "execution_count": 67,
   "metadata": {},
   "outputs": [
    {
     "ename": "TypeError",
     "evalue": "unhashable type: 'list'",
     "output_type": "error",
     "traceback": [
      "\u001b[0;31m---------------------------------------------------------------------------\u001b[0m",
      "\u001b[0;31mTypeError\u001b[0m                                 Traceback (most recent call last)",
      "\u001b[0;32m<ipython-input-67-8e431478d751>\u001b[0m in \u001b[0;36m<module>\u001b[0;34m\u001b[0m\n\u001b[0;32m----> 1\u001b[0;31m \u001b[0mset\u001b[0m\u001b[0;34m(\u001b[0m\u001b[0moks\u001b[0m\u001b[0;34m)\u001b[0m \u001b[0;34m&\u001b[0m \u001b[0mset\u001b[0m\u001b[0;34m(\u001b[0m\u001b[0mngs\u001b[0m\u001b[0;34m)\u001b[0m\u001b[0;34m\u001b[0m\u001b[0;34m\u001b[0m\u001b[0m\n\u001b[0m",
      "\u001b[0;31mTypeError\u001b[0m: unhashable type: 'list'"
     ]
    }
   ],
   "source": [
    "set(oks) & set(ngs)"
   ]
  },
  {
   "cell_type": "code",
   "execution_count": 44,
   "metadata": {},
   "outputs": [
    {
     "data": {
      "text/plain": [
       "{6: 504340,\n",
       " 5: 11055556,\n",
       " 2: 209201,\n",
       " 4: 29222222,\n",
       " 1: 221788,\n",
       " 3: 494792,\n",
       " 0: 7388889,\n",
       " 7: 13027778,\n",
       " 8: 12916667,\n",
       " 9: 502604,\n",
       " 11: 11527778,\n",
       " 10: 27444444,\n",
       " 13: 13055556,\n",
       " 15: 19611111,\n",
       " 12: 873264,\n",
       " 14: 22222222,\n",
       " 16: 28722222,\n",
       " 21: 525174,\n",
       " 17: 253038,\n",
       " 22: 6916667,\n",
       " 18: 20777778,\n",
       " 20: 25777778,\n",
       " 19: 25444444,\n",
       " 23: 16764,\n",
       " 24: 133247,\n",
       " 27: 7319444,\n",
       " 26: 24833333,\n",
       " 25: 12138889,\n",
       " 29: 16140,\n",
       " 28: 13111111,\n",
       " 30: 489583,\n",
       " 31: 56777778,\n",
       " 33: 1930556,\n",
       " 32: 66623,\n",
       " 34: 7962,\n",
       " 37: 50222222,\n",
       " 35: 53777778,\n",
       " 36: 47777778,\n",
       " 38: 14083333,\n",
       " 39: 43888889,\n",
       " 40: 6097222,\n",
       " 41: 26944444,\n",
       " 42: 12444444,\n",
       " 43: 139974,\n",
       " 45: 5625000,\n",
       " 44: 483507,\n",
       " 46: 810764,\n",
       " 47: 27277778,\n",
       " 48: 2951389,\n",
       " 49: 7180556,\n",
       " 50: 2079,\n",
       " 51: 1072,\n",
       " 53: 1795139,\n",
       " 52: 26722222,\n",
       " 54: 3527778,\n",
       " 55: 2145833,\n",
       " 57: 3229167,\n",
       " 56: 125000,\n",
       " 58: 26055556,\n",
       " 60: 12472222,\n",
       " 61: 33963,\n",
       " 59: 62934,\n",
       " 62: 31304,\n",
       " 63: 24888889,\n",
       " 65: 3333333,\n",
       " 64: 871528,\n",
       " 66: 12944444,\n",
       " 67: 14083333,\n",
       " 68: 27388889,\n",
       " 69: 980903,\n",
       " 70: 5708333,\n",
       " 71: 498264,\n",
       " 73: 25777778,\n",
       " 72: 15869,\n",
       " 75: 47444444,\n",
       " 77: 25722222,\n",
       " 74: 58888889,\n",
       " 76: 13111111,\n",
       " 78: 27611111,\n",
       " 79: 46444444,\n",
       " 82: 30555556,\n",
       " 80: 1065972,\n",
       " 84: 126302,\n",
       " 81: 13166667,\n",
       " 83: 11722222,\n",
       " 85: 23555556,\n",
       " 86: 3013889,\n",
       " 87: 48888889,\n",
       " 91: 3020833,\n",
       " 89: 270833,\n",
       " 88: 51000000,\n",
       " 90: 1725694,\n",
       " 93: 29111111,\n",
       " 94: 28333333,\n",
       " 95: 3555556,\n",
       " 97: 45000000,\n",
       " 98: 3430556,\n",
       " 99: 31304,\n",
       " 96: 13944444,\n",
       " 100: 6458333}"
      ]
     },
     "execution_count": 44,
     "metadata": {},
     "output_type": "execute_result"
    }
   ],
   "source": [
    "scores"
   ]
  },
  {
   "cell_type": "code",
   "execution_count": 29,
   "metadata": {},
   "outputs": [
    {
     "name": "stdout",
     "output_type": "stream",
     "text": [
      "..............................\n",
      "##############################\n",
      "....#..#..#..#..#..#..#..#..#.\n",
      "#.....#..#..#..#..#..#..#..#..\n",
      "..#.....#..#..#..#..#..#..#..#\n",
      ".#.....#..#..#..#..#..#..#..#.\n",
      "#..#.....#..#..#..#..#..#..#..\n",
      "..#..#.....#..#..#..#..#..#..#\n",
      ".#..#.....#..#..#..#..#..#..#.\n",
      "#..#..#.....#..#..#..#..#..#..\n",
      "..#..#..#.....#..#..#..#..#..#\n",
      ".#..#..#.....#..#..#..#..#..#.\n",
      "#..#..#..#.....#..#..#..#..#..\n",
      "..#..#..#..#.....#..#..#..#..#\n",
      ".#..#..#..#.....#..#..#..#..#.\n",
      "#..#..#..#..#.....#..#..#..#..\n",
      "..#..#..#..#..#.....#..#..#..#\n",
      ".#..#..#..#..#.....#..#..#..#.\n",
      "#..#..#..#..#..#.....#..#..#..\n",
      "..#..#..#..#..#..#.....#..#..#\n",
      ".#..#..#..#..#..#.....#..#..#.\n",
      "#..#..#..#..#..#..#.....#..#..\n",
      "..#..#..#..#..#..#..#.....#..#\n",
      ".#..#..#..#..#..#..#.....#..#.\n",
      "#..#..#..#..#..#..#..#.....#..\n",
      "..#..#..#..#..#..#..#..#.....#\n",
      ".#..#..#..#..#..#..#..#.....#.\n",
      "#..#..#..#..#..#..#..#..#.....\n",
      "..#..#..#..#..#..#..#..#..#...\n",
      ".#..#..#..#..#..#..#..#..#....\n"
     ]
    }
   ],
   "source": [
    "for x in range(30):\n",
    "    line = []\n",
    "    for y in range(30):\n",
    "        s = \"#\" if x==1 or (x>1 and (x+y)%3==0 and (not -1<=y-x<=1)) else \".\"\n",
    "        line.append(s)\n",
    "    print(\"\".join(line))\n"
   ]
  }
 ],
 "metadata": {
  "interpreter": {
   "hash": "e0f0f84a0175320f76a32b3666ff481fa43fbbd161a0c5f133a0ad0008dabc7a"
  },
  "kernelspec": {
   "display_name": "Python 3.9.7 64-bit ('atcoder': venv)",
   "language": "python",
   "name": "python3"
  },
  "language_info": {
   "codemirror_mode": {
    "name": "ipython",
    "version": 3
   },
   "file_extension": ".py",
   "mimetype": "text/x-python",
   "name": "python",
   "nbconvert_exporter": "python",
   "pygments_lexer": "ipython3",
   "version": "3.9.10"
  },
  "orig_nbformat": 4
 },
 "nbformat": 4,
 "nbformat_minor": 2
}
