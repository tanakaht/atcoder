{
 "cells": [
  {
   "cell_type": "code",
   "execution_count": null,
   "metadata": {},
   "outputs": [],
   "source": [
    "import matplotlib.pyplot as plt\n",
    "import seaborn as sns\n",
    "import numpy as np\n",
    "import pandas as pd\n",
    "import sys, os, math, itertools"
   ]
  },
  {
   "cell_type": "code",
   "execution_count": 13,
   "metadata": {},
   "outputs": [
    {
     "name": "stdout",
     "output_type": "stream",
     "text": [
      "0111\n",
      "0100\n",
      "0110\n",
      "0101\n",
      "0000\n"
     ]
    }
   ],
   "source": [
    "ptns  = set(\"0\")\n",
    "for _ in range(5):\n",
    "    new_ptns = set()\n",
    "    for ptn in ptns:\n",
    "        new_ptns.add(f\"{ptn}0\")\n",
    "        tmp = ptn.replace(\"0\", \"x\").replace(\"1\", \"0\").replace(\"x\", \"1\")\n",
    "        new_ptns.add(f\"0{tmp}\")\n",
    "    ptns = new_ptns\n",
    "for ptn in ptns:\n",
    "    print(ptn)\n"
   ]
  },
  {
   "cell_type": "code",
   "execution_count": 14,
   "metadata": {},
   "outputs": [
    {
     "name": "stdout",
     "output_type": "stream",
     "text": [
      "1 False 0001\n",
      "1 False 1010\n",
      "0 False 1100\n",
      "0 False 1110\n",
      "1 False 0011\n",
      "1 False 1011\n",
      "0 False 1111\n",
      "1 True 0100\n",
      "1 False 1001\n",
      "1 False 1101\n",
      "0 False 1000\n",
      "1 True 0111\n",
      "1 True 0110\n",
      "2 True 0101\n",
      "0 True 0000\n",
      "1 False 0010\n"
     ]
    }
   ],
   "source": [
    "def cnt(s):\n",
    "    ret = 0\n",
    "    for i in range(len(s)-1):\n",
    "        ret += (s[i]==\"0\") and (s[i+1]==\"1\")\n",
    "    return ret\n",
    "\n",
    "def all_ptns(n):\n",
    "    ptns = set([\"0\", \"1\"])\n",
    "    for _ in range(n-1):\n",
    "        new_ptns = set()\n",
    "        for ptn in ptns:\n",
    "            new_ptns.add(f\"{ptn}0\")\n",
    "            new_ptns.add(f\"{ptn}1\")\n",
    "        ptns = new_ptns\n",
    "    return ptns\n",
    "for x in all_ptns(4):\n",
    "    print(cnt(x), x in ptns, x)\n",
    "\n",
    "\n"
   ]
  }
 ],
 "metadata": {
  "interpreter": {
   "hash": "e0f0f84a0175320f76a32b3666ff481fa43fbbd161a0c5f133a0ad0008dabc7a"
  },
  "kernelspec": {
   "display_name": "Python 3.9.10 ('atcoder')",
   "language": "python",
   "name": "python3"
  },
  "language_info": {
   "codemirror_mode": {
    "name": "ipython",
    "version": 3
   },
   "file_extension": ".py",
   "mimetype": "text/x-python",
   "name": "python",
   "nbconvert_exporter": "python",
   "pygments_lexer": "ipython3",
   "version": "3.9.10"
  },
  "orig_nbformat": 4
 },
 "nbformat": 4,
 "nbformat_minor": 2
}
